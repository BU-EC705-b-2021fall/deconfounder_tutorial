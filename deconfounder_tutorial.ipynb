{
 "cells": [
  {
   "cell_type": "markdown",
   "metadata": {
    "colab_type": "text",
    "id": "Ls2D-iRqty8x"
   },
   "source": [
    "# The Deconfounder in Action"
   ]
  },
  {
   "cell_type": "markdown",
   "metadata": {
    "colab_type": "text",
    "id": "vY0i2JWJuAO7"
   },
   "source": [
    "In this notebook, we are going to see **the deconfounder in action**.\n",
    "\n",
    "We will perform **causal inference** with the deconfounder on a **breast cancer** dataset.\n",
    "\n",
    "**Goal:**\n",
    "To convince all of us that the deconfounder is **easy** to use!\n"
   ]
  },
  {
   "cell_type": "markdown",
   "metadata": {
    "colab_type": "text",
    "id": "KwpnNVhL15jK"
   },
   "source": [
    "The **deconfounder** operates in three steps:\n",
    "\n",
    "1.   **Fit** a factor model to the assigned causes; it leads to a candidate substitute confounder.\n",
    "2.   **Check** the factor model with a predictive check.\n",
    "3.   **Correct** for the substitute confounder in a causal inference.\n",
    "\n",
    "\n",
    "Let's get started!\n"
   ]
  },
  {
   "cell_type": "markdown",
   "metadata": {
    "colab_type": "text",
    "id": "qQx9kYR26Lq4"
   },
   "source": [
    "# Getting ready to work!"
   ]
  },
  {
   "cell_type": "code",
   "execution_count": 0,
   "metadata": {
    "colab": {
     "base_uri": "https://localhost:8080/",
     "height": 394
    },
    "colab_type": "code",
    "id": "j5s-rHCuZ5qS",
    "outputId": "91f7f868-dced-4181-8892-4069636a88fc"
   },
   "outputs": [
    {
     "name": "stdout",
     "output_type": "stream",
     "text": [
      "Requirement already satisfied: tensorflow_probability in /usr/local/lib/python3.6/dist-packages (0.3.0)\n",
      "Requirement already satisfied: tensorflow>=1.10.0 in /usr/local/lib/python3.6/dist-packages (from tensorflow_probability) (1.11.0rc2)\n",
      "Requirement already satisfied: numpy<=1.14.5,>=1.13.3 in /usr/local/lib/python3.6/dist-packages (from tensorflow_probability) (1.14.5)\n",
      "Requirement already satisfied: six>=1.10.0 in /usr/local/lib/python3.6/dist-packages (from tensorflow_probability) (1.11.0)\n",
      "Requirement already satisfied: gast>=0.2.0 in /usr/local/lib/python3.6/dist-packages (from tensorflow>=1.10.0->tensorflow_probability) (0.2.0)\n",
      "Requirement already satisfied: tensorboard<1.11.0,>=1.10.0 in /usr/local/lib/python3.6/dist-packages (from tensorflow>=1.10.0->tensorflow_probability) (1.10.0)\n",
      "Requirement already satisfied: wheel>=0.26 in /usr/local/lib/python3.6/dist-packages (from tensorflow>=1.10.0->tensorflow_probability) (0.31.1)\n",
      "Requirement already satisfied: grpcio>=1.8.6 in /usr/local/lib/python3.6/dist-packages (from tensorflow>=1.10.0->tensorflow_probability) (1.15.0)\n",
      "Requirement already satisfied: termcolor>=1.1.0 in /usr/local/lib/python3.6/dist-packages (from tensorflow>=1.10.0->tensorflow_probability) (1.1.0)\n",
      "Requirement already satisfied: setuptools<=39.1.0 in /usr/local/lib/python3.6/dist-packages (from tensorflow>=1.10.0->tensorflow_probability) (39.1.0)\n",
      "Requirement already satisfied: keras-preprocessing>=1.0.3 in /usr/local/lib/python3.6/dist-packages (from tensorflow>=1.10.0->tensorflow_probability) (1.0.3)\n",
      "Requirement already satisfied: keras-applications>=1.0.5 in /usr/local/lib/python3.6/dist-packages (from tensorflow>=1.10.0->tensorflow_probability) (1.0.5)\n",
      "Requirement already satisfied: protobuf>=3.6.0 in /usr/local/lib/python3.6/dist-packages (from tensorflow>=1.10.0->tensorflow_probability) (3.6.1)\n",
      "Requirement already satisfied: astor>=0.6.0 in /usr/local/lib/python3.6/dist-packages (from tensorflow>=1.10.0->tensorflow_probability) (0.7.1)\n",
      "Requirement already satisfied: absl-py>=0.1.6 in /usr/local/lib/python3.6/dist-packages (from tensorflow>=1.10.0->tensorflow_probability) (0.5.0)\n",
      "Requirement already satisfied: werkzeug>=0.11.10 in /usr/local/lib/python3.6/dist-packages (from tensorboard<1.11.0,>=1.10.0->tensorflow>=1.10.0->tensorflow_probability) (0.14.1)\n",
      "Requirement already satisfied: markdown>=2.6.8 in /usr/local/lib/python3.6/dist-packages (from tensorboard<1.11.0,>=1.10.0->tensorflow>=1.10.0->tensorflow_probability) (3.0)\n",
      "Requirement already satisfied: scipy>=0.14 in /usr/local/lib/python3.6/dist-packages (from keras-preprocessing>=1.0.3->tensorflow>=1.10.0->tensorflow_probability) (0.19.1)\n",
      "Requirement already satisfied: keras>=2.1.6 in /usr/local/lib/python3.6/dist-packages (from keras-preprocessing>=1.0.3->tensorflow>=1.10.0->tensorflow_probability) (2.1.6)\n",
      "Requirement already satisfied: h5py in /usr/local/lib/python3.6/dist-packages (from keras-applications>=1.0.5->tensorflow>=1.10.0->tensorflow_probability) (2.8.0)\n",
      "Requirement already satisfied: pyyaml in /usr/local/lib/python3.6/dist-packages (from keras>=2.1.6->keras-preprocessing>=1.0.3->tensorflow>=1.10.0->tensorflow_probability) (3.13)\n"
     ]
    }
   ],
   "source": [
    "!pip install tensorflow_probability"
   ]
  },
  {
   "cell_type": "code",
   "execution_count": 0,
   "metadata": {
    "colab": {
     "base_uri": "https://localhost:8080/",
     "height": 2281
    },
    "colab_type": "code",
    "id": "AHt4Q4Gch1I6",
    "outputId": "58e28586-f97f-486d-fde6-a6e5d7795a19"
   },
   "outputs": [
    {
     "name": "stderr",
     "output_type": "stream",
     "text": [
      "/usr/lib/python3.6/importlib/_bootstrap.py:219: ImportWarning: can't resolve package from __spec__ or __package__, falling back on __name__ and __path__\n",
      "  return f(*args, **kwds)\n",
      "/usr/lib/python3.6/importlib/_bootstrap.py:219: ImportWarning: can't resolve package from __spec__ or __package__, falling back on __name__ and __path__\n",
      "  return f(*args, **kwds)\n",
      "/usr/lib/python3.6/importlib/_bootstrap.py:219: ImportWarning: can't resolve package from __spec__ or __package__, falling back on __name__ and __path__\n",
      "  return f(*args, **kwds)\n",
      "/usr/lib/python3.6/importlib/_bootstrap.py:219: ImportWarning: can't resolve package from __spec__ or __package__, falling back on __name__ and __path__\n",
      "  return f(*args, **kwds)\n",
      "/usr/lib/python3.6/importlib/_bootstrap.py:219: ImportWarning: can't resolve package from __spec__ or __package__, falling back on __name__ and __path__\n",
      "  return f(*args, **kwds)\n",
      "/usr/lib/python3.6/importlib/_bootstrap.py:219: ImportWarning: can't resolve package from __spec__ or __package__, falling back on __name__ and __path__\n",
      "  return f(*args, **kwds)\n",
      "/usr/local/lib/python3.6/dist-packages/statsmodels/compat/pandas.py:56: FutureWarning: The pandas.core.datetools module is deprecated and will be removed in a future version. Please use the pandas.tseries module instead.\n",
      "  from pandas.core import datetools\n",
      "/usr/lib/python3.6/importlib/_bootstrap.py:219: ImportWarning: can't resolve package from __spec__ or __package__, falling back on __name__ and __path__\n",
      "  return f(*args, **kwds)\n",
      "/usr/lib/python3.6/importlib/_bootstrap.py:219: ImportWarning: can't resolve package from __spec__ or __package__, falling back on __name__ and __path__\n",
      "  return f(*args, **kwds)\n",
      "/usr/lib/python3.6/importlib/_bootstrap.py:219: ImportWarning: can't resolve package from __spec__ or __package__, falling back on __name__ and __path__\n",
      "  return f(*args, **kwds)\n",
      "/usr/lib/python3.6/importlib/_bootstrap.py:219: ImportWarning: can't resolve package from __spec__ or __package__, falling back on __name__ and __path__\n",
      "  return f(*args, **kwds)\n",
      "/usr/lib/python3.6/importlib/_bootstrap.py:219: ImportWarning: can't resolve package from __spec__ or __package__, falling back on __name__ and __path__\n",
      "  return f(*args, **kwds)\n",
      "/usr/lib/python3.6/importlib/_bootstrap.py:219: ImportWarning: can't resolve package from __spec__ or __package__, falling back on __name__ and __path__\n",
      "  return f(*args, **kwds)\n",
      "/usr/lib/python3.6/importlib/_bootstrap.py:219: ImportWarning: can't resolve package from __spec__ or __package__, falling back on __name__ and __path__\n",
      "  return f(*args, **kwds)\n",
      "/usr/lib/python3.6/importlib/_bootstrap.py:219: ImportWarning: can't resolve package from __spec__ or __package__, falling back on __name__ and __path__\n",
      "  return f(*args, **kwds)\n",
      "/usr/lib/python3.6/importlib/_bootstrap.py:219: ImportWarning: can't resolve package from __spec__ or __package__, falling back on __name__ and __path__\n",
      "  return f(*args, **kwds)\n",
      "/usr/lib/python3.6/importlib/_bootstrap.py:219: ImportWarning: can't resolve package from __spec__ or __package__, falling back on __name__ and __path__\n",
      "  return f(*args, **kwds)\n",
      "/usr/lib/python3.6/importlib/_bootstrap.py:219: ImportWarning: can't resolve package from __spec__ or __package__, falling back on __name__ and __path__\n",
      "  return f(*args, **kwds)\n",
      "/usr/lib/python3.6/importlib/_bootstrap.py:219: ImportWarning: can't resolve package from __spec__ or __package__, falling back on __name__ and __path__\n",
      "  return f(*args, **kwds)\n",
      "/usr/lib/python3.6/importlib/_bootstrap.py:219: ImportWarning: can't resolve package from __spec__ or __package__, falling back on __name__ and __path__\n",
      "  return f(*args, **kwds)\n",
      "/usr/lib/python3.6/importlib/_bootstrap.py:219: ImportWarning: can't resolve package from __spec__ or __package__, falling back on __name__ and __path__\n",
      "  return f(*args, **kwds)\n",
      "/usr/lib/python3.6/importlib/_bootstrap.py:219: ImportWarning: can't resolve package from __spec__ or __package__, falling back on __name__ and __path__\n",
      "  return f(*args, **kwds)\n",
      "/usr/lib/python3.6/importlib/_bootstrap.py:219: ImportWarning: can't resolve package from __spec__ or __package__, falling back on __name__ and __path__\n",
      "  return f(*args, **kwds)\n",
      "/usr/lib/python3.6/importlib/_bootstrap.py:219: ImportWarning: can't resolve package from __spec__ or __package__, falling back on __name__ and __path__\n",
      "  return f(*args, **kwds)\n",
      "/usr/lib/python3.6/importlib/_bootstrap.py:219: ImportWarning: can't resolve package from __spec__ or __package__, falling back on __name__ and __path__\n",
      "  return f(*args, **kwds)\n",
      "/usr/lib/python3.6/importlib/_bootstrap.py:219: ImportWarning: can't resolve package from __spec__ or __package__, falling back on __name__ and __path__\n",
      "  return f(*args, **kwds)\n",
      "/usr/lib/python3.6/importlib/_bootstrap.py:219: ImportWarning: can't resolve package from __spec__ or __package__, falling back on __name__ and __path__\n",
      "  return f(*args, **kwds)\n",
      "/usr/lib/python3.6/importlib/_bootstrap.py:219: ImportWarning: can't resolve package from __spec__ or __package__, falling back on __name__ and __path__\n",
      "  return f(*args, **kwds)\n",
      "/usr/lib/python3.6/importlib/_bootstrap.py:219: ImportWarning: can't resolve package from __spec__ or __package__, falling back on __name__ and __path__\n",
      "  return f(*args, **kwds)\n",
      "/usr/lib/python3.6/importlib/_bootstrap.py:219: ImportWarning: can't resolve package from __spec__ or __package__, falling back on __name__ and __path__\n",
      "  return f(*args, **kwds)\n",
      "/usr/lib/python3.6/importlib/_bootstrap.py:219: ImportWarning: can't resolve package from __spec__ or __package__, falling back on __name__ and __path__\n",
      "  return f(*args, **kwds)\n",
      "/usr/lib/python3.6/importlib/_bootstrap.py:219: ImportWarning: can't resolve package from __spec__ or __package__, falling back on __name__ and __path__\n",
      "  return f(*args, **kwds)\n",
      "/usr/lib/python3.6/importlib/_bootstrap.py:219: ImportWarning: can't resolve package from __spec__ or __package__, falling back on __name__ and __path__\n",
      "  return f(*args, **kwds)\n",
      "/usr/lib/python3.6/importlib/_bootstrap.py:219: ImportWarning: can't resolve package from __spec__ or __package__, falling back on __name__ and __path__\n",
      "  return f(*args, **kwds)\n",
      "/usr/lib/python3.6/importlib/_bootstrap.py:219: ImportWarning: can't resolve package from __spec__ or __package__, falling back on __name__ and __path__\n",
      "  return f(*args, **kwds)\n",
      "/usr/local/lib/python3.6/dist-packages/sklearn/cross_validation.py:41: DeprecationWarning: This module was deprecated in version 0.18 in favor of the model_selection module into which all the refactored classes and functions are moved. Also note that the interface of the new CV iterators are different from that of this module. This module will be removed in 0.20.\n",
      "  \"This module will be removed in 0.20.\", DeprecationWarning)\n",
      "/usr/lib/python3.6/importlib/_bootstrap.py:219: ImportWarning: can't resolve package from __spec__ or __package__, falling back on __name__ and __path__\n",
      "  return f(*args, **kwds)\n",
      "/usr/lib/python3.6/importlib/_bootstrap.py:219: ImportWarning: can't resolve package from __spec__ or __package__, falling back on __name__ and __path__\n",
      "  return f(*args, **kwds)\n",
      "/usr/lib/python3.6/importlib/_bootstrap.py:219: ImportWarning: can't resolve package from __spec__ or __package__, falling back on __name__ and __path__\n",
      "  return f(*args, **kwds)\n",
      "/usr/lib/python3.6/importlib/_bootstrap.py:219: ImportWarning: can't resolve package from __spec__ or __package__, falling back on __name__ and __path__\n",
      "  return f(*args, **kwds)\n",
      "/usr/lib/python3.6/importlib/_bootstrap.py:219: ImportWarning: can't resolve package from __spec__ or __package__, falling back on __name__ and __path__\n",
      "  return f(*args, **kwds)\n",
      "/usr/lib/python3.6/importlib/_bootstrap.py:219: ImportWarning: can't resolve package from __spec__ or __package__, falling back on __name__ and __path__\n",
      "  return f(*args, **kwds)\n",
      "/usr/lib/python3.6/importlib/_bootstrap.py:219: ImportWarning: can't resolve package from __spec__ or __package__, falling back on __name__ and __path__\n",
      "  return f(*args, **kwds)\n",
      "/usr/lib/python3.6/importlib/_bootstrap.py:219: ImportWarning: can't resolve package from __spec__ or __package__, falling back on __name__ and __path__\n",
      "  return f(*args, **kwds)\n",
      "/usr/lib/python3.6/importlib/_bootstrap.py:219: ImportWarning: can't resolve package from __spec__ or __package__, falling back on __name__ and __path__\n",
      "  return f(*args, **kwds)\n",
      "/usr/lib/python3.6/importlib/_bootstrap.py:219: ImportWarning: can't resolve package from __spec__ or __package__, falling back on __name__ and __path__\n",
      "  return f(*args, **kwds)\n",
      "/usr/lib/python3.6/importlib/_bootstrap.py:219: ImportWarning: can't resolve package from __spec__ or __package__, falling back on __name__ and __path__\n",
      "  return f(*args, **kwds)\n",
      "/usr/lib/python3.6/importlib/_bootstrap.py:219: ImportWarning: can't resolve package from __spec__ or __package__, falling back on __name__ and __path__\n",
      "  return f(*args, **kwds)\n",
      "/usr/lib/python3.6/importlib/_bootstrap.py:219: ImportWarning: can't resolve package from __spec__ or __package__, falling back on __name__ and __path__\n",
      "  return f(*args, **kwds)\n",
      "/usr/lib/python3.6/importlib/_bootstrap.py:219: ImportWarning: can't resolve package from __spec__ or __package__, falling back on __name__ and __path__\n",
      "  return f(*args, **kwds)\n",
      "/usr/lib/python3.6/importlib/_bootstrap.py:219: ImportWarning: can't resolve package from __spec__ or __package__, falling back on __name__ and __path__\n",
      "  return f(*args, **kwds)\n",
      "/usr/lib/python3.6/importlib/_bootstrap.py:219: ImportWarning: can't resolve package from __spec__ or __package__, falling back on __name__ and __path__\n",
      "  return f(*args, **kwds)\n",
      "/usr/lib/python3.6/importlib/_bootstrap.py:219: ImportWarning: can't resolve package from __spec__ or __package__, falling back on __name__ and __path__\n",
      "  return f(*args, **kwds)\n",
      "/usr/lib/python3.6/importlib/_bootstrap.py:219: ImportWarning: can't resolve package from __spec__ or __package__, falling back on __name__ and __path__\n",
      "  return f(*args, **kwds)\n",
      "/usr/lib/python3.6/importlib/_bootstrap.py:219: ImportWarning: can't resolve package from __spec__ or __package__, falling back on __name__ and __path__\n",
      "  return f(*args, **kwds)\n",
      "/usr/lib/python3.6/importlib/_bootstrap.py:219: ImportWarning: can't resolve package from __spec__ or __package__, falling back on __name__ and __path__\n",
      "  return f(*args, **kwds)\n",
      "/usr/lib/python3.6/importlib/_bootstrap.py:219: ImportWarning: can't resolve package from __spec__ or __package__, falling back on __name__ and __path__\n",
      "  return f(*args, **kwds)\n",
      "/usr/lib/python3.6/importlib/_bootstrap.py:219: ImportWarning: can't resolve package from __spec__ or __package__, falling back on __name__ and __path__\n",
      "  return f(*args, **kwds)\n",
      "/usr/lib/python3.6/importlib/_bootstrap.py:219: ImportWarning: can't resolve package from __spec__ or __package__, falling back on __name__ and __path__\n",
      "  return f(*args, **kwds)\n",
      "/usr/lib/python3.6/importlib/_bootstrap.py:219: ImportWarning: can't resolve package from __spec__ or __package__, falling back on __name__ and __path__\n",
      "  return f(*args, **kwds)\n",
      "/usr/lib/python3.6/importlib/_bootstrap.py:219: ImportWarning: can't resolve package from __spec__ or __package__, falling back on __name__ and __path__\n",
      "  return f(*args, **kwds)\n",
      "/usr/lib/python3.6/importlib/_bootstrap.py:219: ImportWarning: can't resolve package from __spec__ or __package__, falling back on __name__ and __path__\n",
      "  return f(*args, **kwds)\n",
      "/usr/lib/python3.6/importlib/_bootstrap.py:219: ImportWarning: can't resolve package from __spec__ or __package__, falling back on __name__ and __path__\n",
      "  return f(*args, **kwds)\n",
      "/usr/lib/python3.6/importlib/_bootstrap.py:219: ImportWarning: can't resolve package from __spec__ or __package__, falling back on __name__ and __path__\n",
      "  return f(*args, **kwds)\n",
      "/usr/lib/python3.6/importlib/_bootstrap.py:219: ImportWarning: can't resolve package from __spec__ or __package__, falling back on __name__ and __path__\n",
      "  return f(*args, **kwds)\n",
      "/usr/lib/python3.6/importlib/_bootstrap.py:219: ImportWarning: can't resolve package from __spec__ or __package__, falling back on __name__ and __path__\n",
      "  return f(*args, **kwds)\n"
     ]
    }
   ],
   "source": [
    "import tensorflow as tf\n",
    "import numpy as np\n",
    "import numpy.random as npr\n",
    "import pandas as pd\n",
    "import tensorflow as tf\n",
    "import tensorflow_probability as tfp\n",
    "import statsmodels.api as sm\n",
    "\n",
    "from tensorflow_probability import edward2 as ed\n",
    "from sklearn.datasets import load_breast_cancer\n",
    "from pandas.tools.plotting import scatter_matrix\n",
    "from scipy import sparse, stats\n",
    "from sklearn.cross_validation import train_test_split\n",
    "from sklearn.linear_model import LogisticRegression \n",
    "from sklearn.metrics import confusion_matrix, classification_report, roc_auc_score, roc_curve\n",
    "\n",
    "import matplotlib\n",
    "matplotlib.rcParams.update({'font.sans-serif' : 'Helvetica',\n",
    "                            'axes.labelsize': 10,\n",
    "                            'xtick.labelsize' : 6,\n",
    "                            'ytick.labelsize' : 6,\n",
    "                            'axes.titlesize' : 10})\n",
    "import matplotlib.pyplot as plt\n",
    "\n",
    "import seaborn as sns\n",
    "color_names = [\"windows blue\",\n",
    "               \"amber\",\n",
    "               \"crimson\",\n",
    "               \"faded green\",\n",
    "               \"dusty purple\",\n",
    "               \"greyish\"]\n",
    "colors = sns.xkcd_palette(color_names)\n",
    "sns.set(style=\"white\", palette=sns.xkcd_palette(color_names))"
   ]
  },
  {
   "cell_type": "code",
   "execution_count": 0,
   "metadata": {
    "colab": {
     "base_uri": "https://localhost:8080/",
     "height": 207
    },
    "colab_type": "code",
    "id": "CbLrKgh75lmF",
    "outputId": "7547a9b7-1cdf-4782-b0fc-b8dce286233b"
   },
   "outputs": [
    {
     "name": "stdout",
     "output_type": "stream",
     "text": [
      "Name: tensorflow\n",
      "Version: 1.11.0rc2\n",
      "Summary: TensorFlow is an open source machine learning framework for everyone.\n",
      "Home-page: https://www.tensorflow.org/\n",
      "Author: Google Inc.\n",
      "Author-email: opensource@google.com\n",
      "License: Apache 2.0\n",
      "Location: /usr/local/lib/python3.6/dist-packages\n",
      "Requires: keras-preprocessing, numpy, tensorboard, setuptools, absl-py, grpcio, gast, protobuf, wheel, astor, six, keras-applications, termcolor\n",
      "Required-by: tensorflow-probability\n"
     ]
    }
   ],
   "source": [
    "!pip show tensorflow"
   ]
  },
  {
   "cell_type": "code",
   "execution_count": 0,
   "metadata": {
    "colab": {
     "base_uri": "https://localhost:8080/",
     "height": 187
    },
    "colab_type": "code",
    "id": "isEZ89zj5nax",
    "outputId": "77bb7b0a-79a3-49c1-ed4f-b9f39797756b"
   },
   "outputs": [
    {
     "name": "stdout",
     "output_type": "stream",
     "text": [
      "Name: tensorflow-probability\n",
      "Version: 0.3.0\n",
      "Summary: Probabilistic modeling and statistical inference in TensorFlow\n",
      "Home-page: http://github.com/tensorflow/probability\n",
      "Author: Google LLC\n",
      "Author-email: no-reply@google.com\n",
      "License: Apache 2.0\n",
      "Location: /usr/local/lib/python3.6/dist-packages\n",
      "Requires: six, tensorflow, numpy\n",
      "Required-by: \n"
     ]
    }
   ],
   "source": [
    "!pip show tensorflow_probability"
   ]
  },
  {
   "cell_type": "code",
   "execution_count": 0,
   "metadata": {
    "colab": {
     "base_uri": "https://localhost:8080/",
     "height": 34
    },
    "colab_type": "code",
    "id": "k-Gkiqs1h2nd",
    "outputId": "45dea9c9-2e11-4dc2-b7d7-8e6a19f901d7"
   },
   "outputs": [
    {
     "name": "stdout",
     "output_type": "stream",
     "text": [
      "random seed:  123\n"
     ]
    }
   ],
   "source": [
    "# set random seed so everyone gets the same number\n",
    "import random\n",
    "randseed = 123\n",
    "print(\"random seed: \", randseed)\n",
    "random.seed(randseed)\n",
    "np.random.seed(randseed)\n",
    "tf.set_random_seed(randseed)"
   ]
  },
  {
   "cell_type": "markdown",
   "metadata": {
    "colab_type": "text",
    "id": "GAv0QLoj6SPJ"
   },
   "source": [
    "## The scikit-learn breast cancer dataset"
   ]
  },
  {
   "cell_type": "markdown",
   "metadata": {
    "colab_type": "text",
    "id": "t_cTMBQT6po6"
   },
   "source": [
    "*   It is a data set about **breast cancer**. \n",
    "*   We are interested in how tumor properties **affect** cancer diagnosis. \n",
    "*   The **(multiple) causes** are tumor properties, e.g. sizes, compactness, symmetry, texture. \n",
    "*   The **outcome** is tumor diagnosis, whether the breast cancer is diagnosed as malignant or benign.\n",
    "\n"
   ]
  },
  {
   "cell_type": "code",
   "execution_count": 0,
   "metadata": {
    "colab": {},
    "colab_type": "code",
    "id": "Y9-3vRsFIXWs"
   },
   "outputs": [],
   "source": [
    "data = load_breast_cancer()"
   ]
  },
  {
   "cell_type": "code",
   "execution_count": 0,
   "metadata": {
    "colab": {
     "base_uri": "https://localhost:8080/",
     "height": 2023
    },
    "colab_type": "code",
    "id": "5S-p6g7xhi26",
    "outputId": "a005e63c-deeb-46e2-fa86-26a1dc04051b"
   },
   "outputs": [
    {
     "name": "stdout",
     "output_type": "stream",
     "text": [
      "Breast Cancer Wisconsin (Diagnostic) Database\n",
      "=============================================\n",
      "\n",
      "Notes\n",
      "-----\n",
      "Data Set Characteristics:\n",
      "    :Number of Instances: 569\n",
      "\n",
      "    :Number of Attributes: 30 numeric, predictive attributes and the class\n",
      "\n",
      "    :Attribute Information:\n",
      "        - radius (mean of distances from center to points on the perimeter)\n",
      "        - texture (standard deviation of gray-scale values)\n",
      "        - perimeter\n",
      "        - area\n",
      "        - smoothness (local variation in radius lengths)\n",
      "        - compactness (perimeter^2 / area - 1.0)\n",
      "        - concavity (severity of concave portions of the contour)\n",
      "        - concave points (number of concave portions of the contour)\n",
      "        - symmetry \n",
      "        - fractal dimension (\"coastline approximation\" - 1)\n",
      "\n",
      "        The mean, standard error, and \"worst\" or largest (mean of the three\n",
      "        largest values) of these features were computed for each image,\n",
      "        resulting in 30 features.  For instance, field 3 is Mean Radius, field\n",
      "        13 is Radius SE, field 23 is Worst Radius.\n",
      "\n",
      "        - class:\n",
      "                - WDBC-Malignant\n",
      "                - WDBC-Benign\n",
      "\n",
      "    :Summary Statistics:\n",
      "\n",
      "    ===================================== ====== ======\n",
      "                                           Min    Max\n",
      "    ===================================== ====== ======\n",
      "    radius (mean):                        6.981  28.11\n",
      "    texture (mean):                       9.71   39.28\n",
      "    perimeter (mean):                     43.79  188.5\n",
      "    area (mean):                          143.5  2501.0\n",
      "    smoothness (mean):                    0.053  0.163\n",
      "    compactness (mean):                   0.019  0.345\n",
      "    concavity (mean):                     0.0    0.427\n",
      "    concave points (mean):                0.0    0.201\n",
      "    symmetry (mean):                      0.106  0.304\n",
      "    fractal dimension (mean):             0.05   0.097\n",
      "    radius (standard error):              0.112  2.873\n",
      "    texture (standard error):             0.36   4.885\n",
      "    perimeter (standard error):           0.757  21.98\n",
      "    area (standard error):                6.802  542.2\n",
      "    smoothness (standard error):          0.002  0.031\n",
      "    compactness (standard error):         0.002  0.135\n",
      "    concavity (standard error):           0.0    0.396\n",
      "    concave points (standard error):      0.0    0.053\n",
      "    symmetry (standard error):            0.008  0.079\n",
      "    fractal dimension (standard error):   0.001  0.03\n",
      "    radius (worst):                       7.93   36.04\n",
      "    texture (worst):                      12.02  49.54\n",
      "    perimeter (worst):                    50.41  251.2\n",
      "    area (worst):                         185.2  4254.0\n",
      "    smoothness (worst):                   0.071  0.223\n",
      "    compactness (worst):                  0.027  1.058\n",
      "    concavity (worst):                    0.0    1.252\n",
      "    concave points (worst):               0.0    0.291\n",
      "    symmetry (worst):                     0.156  0.664\n",
      "    fractal dimension (worst):            0.055  0.208\n",
      "    ===================================== ====== ======\n",
      "\n",
      "    :Missing Attribute Values: None\n",
      "\n",
      "    :Class Distribution: 212 - Malignant, 357 - Benign\n",
      "\n",
      "    :Creator:  Dr. William H. Wolberg, W. Nick Street, Olvi L. Mangasarian\n",
      "\n",
      "    :Donor: Nick Street\n",
      "\n",
      "    :Date: November, 1995\n",
      "\n",
      "This is a copy of UCI ML Breast Cancer Wisconsin (Diagnostic) datasets.\n",
      "https://goo.gl/U2Uwz2\n",
      "\n",
      "Features are computed from a digitized image of a fine needle\n",
      "aspirate (FNA) of a breast mass.  They describe\n",
      "characteristics of the cell nuclei present in the image.\n",
      "\n",
      "Separating plane described above was obtained using\n",
      "Multisurface Method-Tree (MSM-T) [K. P. Bennett, \"Decision Tree\n",
      "Construction Via Linear Programming.\" Proceedings of the 4th\n",
      "Midwest Artificial Intelligence and Cognitive Science Society,\n",
      "pp. 97-101, 1992], a classification method which uses linear\n",
      "programming to construct a decision tree.  Relevant features\n",
      "were selected using an exhaustive search in the space of 1-4\n",
      "features and 1-3 separating planes.\n",
      "\n",
      "The actual linear program used to obtain the separating plane\n",
      "in the 3-dimensional space is that described in:\n",
      "[K. P. Bennett and O. L. Mangasarian: \"Robust Linear\n",
      "Programming Discrimination of Two Linearly Inseparable Sets\",\n",
      "Optimization Methods and Software 1, 1992, 23-34].\n",
      "\n",
      "This database is also available through the UW CS ftp server:\n",
      "\n",
      "ftp ftp.cs.wisc.edu\n",
      "cd math-prog/cpo-dataset/machine-learn/WDBC/\n",
      "\n",
      "References\n",
      "----------\n",
      "   - W.N. Street, W.H. Wolberg and O.L. Mangasarian. Nuclear feature extraction \n",
      "     for breast tumor diagnosis. IS&T/SPIE 1993 International Symposium on \n",
      "     Electronic Imaging: Science and Technology, volume 1905, pages 861-870,\n",
      "     San Jose, CA, 1993.\n",
      "   - O.L. Mangasarian, W.N. Street and W.H. Wolberg. Breast cancer diagnosis and \n",
      "     prognosis via linear programming. Operations Research, 43(4), pages 570-577, \n",
      "     July-August 1995.\n",
      "   - W.H. Wolberg, W.N. Street, and O.L. Mangasarian. Machine learning techniques\n",
      "     to diagnose breast cancer from fine-needle aspirates. Cancer Letters 77 (1994) \n",
      "     163-171.\n",
      "\n"
     ]
    }
   ],
   "source": [
    "print(data['DESCR'])"
   ]
  },
  {
   "cell_type": "markdown",
   "metadata": {
    "colab_type": "text",
    "id": "NgtgxjBz3APu"
   },
   "source": [
    "***For simplicity, we will work with the first 10 features, i.e. the mean radius/texture/perimeter***/...."
   ]
  },
  {
   "cell_type": "code",
   "execution_count": 0,
   "metadata": {
    "colab": {},
    "colab_type": "code",
    "id": "C6NzW5eE3IyO"
   },
   "outputs": [],
   "source": [
    "num_fea = 10\n",
    "df = pd.DataFrame(data[\"data\"][:,:num_fea], columns=data[\"feature_names\"][:num_fea])"
   ]
  },
  {
   "cell_type": "code",
   "execution_count": 0,
   "metadata": {
    "colab": {
     "base_uri": "https://localhost:8080/",
     "height": 34
    },
    "colab_type": "code",
    "id": "lBAqZawRPC0c",
    "outputId": "b1df1013-edcb-46fd-d975-d11f88f70ea5"
   },
   "outputs": [
    {
     "data": {
      "text/plain": [
       "(569, 10)"
      ]
     },
     "execution_count": 9,
     "metadata": {
      "tags": []
     },
     "output_type": "execute_result"
    }
   ],
   "source": [
    "df.shape"
   ]
  },
  {
   "cell_type": "code",
   "execution_count": 0,
   "metadata": {
    "colab": {
     "base_uri": "https://localhost:8080/",
     "height": 258
    },
    "colab_type": "code",
    "id": "r7yIcCQM3JvH",
    "outputId": "51b56df2-48eb-4b84-b839-834dca16dd82"
   },
   "outputs": [
    {
     "data": {
      "text/html": [
       "<div>\n",
       "<style scoped>\n",
       "    .dataframe tbody tr th:only-of-type {\n",
       "        vertical-align: middle;\n",
       "    }\n",
       "\n",
       "    .dataframe tbody tr th {\n",
       "        vertical-align: top;\n",
       "    }\n",
       "\n",
       "    .dataframe thead th {\n",
       "        text-align: right;\n",
       "    }\n",
       "</style>\n",
       "<table border=\"1\" class=\"dataframe\">\n",
       "  <thead>\n",
       "    <tr style=\"text-align: right;\">\n",
       "      <th></th>\n",
       "      <th>mean radius</th>\n",
       "      <th>mean texture</th>\n",
       "      <th>mean perimeter</th>\n",
       "      <th>mean area</th>\n",
       "      <th>mean smoothness</th>\n",
       "      <th>mean compactness</th>\n",
       "      <th>mean concavity</th>\n",
       "      <th>mean concave points</th>\n",
       "      <th>mean symmetry</th>\n",
       "      <th>mean fractal dimension</th>\n",
       "    </tr>\n",
       "  </thead>\n",
       "  <tbody>\n",
       "    <tr>\n",
       "      <th>0</th>\n",
       "      <td>17.99</td>\n",
       "      <td>10.38</td>\n",
       "      <td>122.80</td>\n",
       "      <td>1001.0</td>\n",
       "      <td>0.11840</td>\n",
       "      <td>0.27760</td>\n",
       "      <td>0.3001</td>\n",
       "      <td>0.14710</td>\n",
       "      <td>0.2419</td>\n",
       "      <td>0.07871</td>\n",
       "    </tr>\n",
       "    <tr>\n",
       "      <th>1</th>\n",
       "      <td>20.57</td>\n",
       "      <td>17.77</td>\n",
       "      <td>132.90</td>\n",
       "      <td>1326.0</td>\n",
       "      <td>0.08474</td>\n",
       "      <td>0.07864</td>\n",
       "      <td>0.0869</td>\n",
       "      <td>0.07017</td>\n",
       "      <td>0.1812</td>\n",
       "      <td>0.05667</td>\n",
       "    </tr>\n",
       "    <tr>\n",
       "      <th>2</th>\n",
       "      <td>19.69</td>\n",
       "      <td>21.25</td>\n",
       "      <td>130.00</td>\n",
       "      <td>1203.0</td>\n",
       "      <td>0.10960</td>\n",
       "      <td>0.15990</td>\n",
       "      <td>0.1974</td>\n",
       "      <td>0.12790</td>\n",
       "      <td>0.2069</td>\n",
       "      <td>0.05999</td>\n",
       "    </tr>\n",
       "    <tr>\n",
       "      <th>3</th>\n",
       "      <td>11.42</td>\n",
       "      <td>20.38</td>\n",
       "      <td>77.58</td>\n",
       "      <td>386.1</td>\n",
       "      <td>0.14250</td>\n",
       "      <td>0.28390</td>\n",
       "      <td>0.2414</td>\n",
       "      <td>0.10520</td>\n",
       "      <td>0.2597</td>\n",
       "      <td>0.09744</td>\n",
       "    </tr>\n",
       "    <tr>\n",
       "      <th>4</th>\n",
       "      <td>20.29</td>\n",
       "      <td>14.34</td>\n",
       "      <td>135.10</td>\n",
       "      <td>1297.0</td>\n",
       "      <td>0.10030</td>\n",
       "      <td>0.13280</td>\n",
       "      <td>0.1980</td>\n",
       "      <td>0.10430</td>\n",
       "      <td>0.1809</td>\n",
       "      <td>0.05883</td>\n",
       "    </tr>\n",
       "  </tbody>\n",
       "</table>\n",
       "</div>"
      ],
      "text/plain": [
       "   mean radius  mean texture  mean perimeter  mean area  mean smoothness  \\\n",
       "0        17.99         10.38          122.80     1001.0          0.11840   \n",
       "1        20.57         17.77          132.90     1326.0          0.08474   \n",
       "2        19.69         21.25          130.00     1203.0          0.10960   \n",
       "3        11.42         20.38           77.58      386.1          0.14250   \n",
       "4        20.29         14.34          135.10     1297.0          0.10030   \n",
       "\n",
       "   mean compactness  mean concavity  mean concave points  mean symmetry  \\\n",
       "0           0.27760          0.3001              0.14710         0.2419   \n",
       "1           0.07864          0.0869              0.07017         0.1812   \n",
       "2           0.15990          0.1974              0.12790         0.2069   \n",
       "3           0.28390          0.2414              0.10520         0.2597   \n",
       "4           0.13280          0.1980              0.10430         0.1809   \n",
       "\n",
       "   mean fractal dimension  \n",
       "0                 0.07871  \n",
       "1                 0.05667  \n",
       "2                 0.05999  \n",
       "3                 0.09744  \n",
       "4                 0.05883  "
      ]
     },
     "execution_count": 10,
     "metadata": {
      "tags": []
     },
     "output_type": "execute_result"
    }
   ],
   "source": [
    "df.head()"
   ]
  },
  {
   "cell_type": "code",
   "execution_count": 0,
   "metadata": {
    "colab": {},
    "colab_type": "code",
    "id": "5jHvVdJc4NCl"
   },
   "outputs": [],
   "source": [
    "dfy = data[\"target\"]"
   ]
  },
  {
   "cell_type": "code",
   "execution_count": 0,
   "metadata": {
    "colab": {
     "base_uri": "https://localhost:8080/",
     "height": 119
    },
    "colab_type": "code",
    "id": "nlefXx2u4Slb",
    "outputId": "7ee86126-67f2-4965-86f2-12ede152971d"
   },
   "outputs": [
    {
     "data": {
      "text/plain": [
       "((569,),\n",
       " array([0, 0, 0, 0, 0, 0, 0, 0, 0, 0, 0, 0, 0, 0, 0, 0, 0, 0, 0, 1, 1, 1,\n",
       "        0, 0, 0, 0, 0, 0, 0, 0, 0, 0, 0, 0, 0, 0, 0, 1, 0, 0, 0, 0, 0, 0,\n",
       "        0, 0, 1, 0, 1, 1, 1, 1, 1, 0, 0, 1, 0, 0, 1, 1, 1, 1, 0, 1, 0, 0,\n",
       "        1, 1, 1, 1, 0, 1, 0, 0, 1, 0, 1, 0, 0, 1, 1, 1, 0, 0, 1, 0, 0, 0,\n",
       "        1, 1, 1, 0, 1, 1, 0, 0, 1, 1, 1, 0]))"
      ]
     },
     "execution_count": 12,
     "metadata": {
      "tags": []
     },
     "output_type": "execute_result"
    }
   ],
   "source": [
    "dfy.shape, dfy[:100] # binary outcomes"
   ]
  },
  {
   "cell_type": "markdown",
   "metadata": {
    "colab_type": "text",
    "id": "m12T5pzK6fql"
   },
   "source": [
    "## Preparing the dataset for the deconfounder"
   ]
  },
  {
   "cell_type": "markdown",
   "metadata": {
    "colab_type": "text",
    "id": "gugfSD8m1heM"
   },
   "source": [
    "### Only one step of preprocessing needed!\n",
    "\n",
    "### We need to get rid of the highly correlated causes"
   ]
  },
  {
   "cell_type": "markdown",
   "metadata": {
    "colab_type": "text",
    "id": "TAqGlnyq5AYQ"
   },
   "source": [
    "**Why** do we need to get rid of highly correlated causes?\n",
    "\n",
    "If two causes are **highly correlated**, a valid substitute confounder will largely **inflate the variance** of causal estimates downstream.\n",
    "\n",
    "This phenomenon is **closely related to** the variance inflation phenomenon in linear regression.\n",
    "\n",
    "\n",
    "\n"
   ]
  },
  {
   "cell_type": "markdown",
   "metadata": {
    "colab_type": "text",
    "id": "CKHovx1InFLX"
   },
   "source": [
    "***A more technical explanation (ignorable)***\n",
    "\n",
    "Think of the extreme case where two causes are perfectly collinear $A_1 = 5A_2$. The only random variable Z that \n",
    "$$A_1 \\perp A_2 | Z,$$\n",
    "\n",
    "$(A_1, A_2)$ **must** be a **deterministic function** of Z. For example, $Z = A_1$ or $Z = A_2$.\n",
    "\n",
    "Such a substitute confounder Z **breaks one of the conditions** the deconfounder requires. See \"***A note on overlap***\" in the theory section of the paper.\n"
   ]
  },
  {
   "cell_type": "markdown",
   "metadata": {
    "colab_type": "text",
    "id": "ywFFAar53Vt5"
   },
   "source": [
    "**How** do we get rid of highly correlated causes?\n",
    "\n",
    "*   We first make a **scatter plot** of **all pairs** of the causes.\n",
    "\n",
    "*   It reveals which causes are **highly correlated**.\n",
    "\n",
    "*   We will **exclude** these highly correlated causes by hand.\n",
    "\n"
   ]
  },
  {
   "cell_type": "code",
   "execution_count": 0,
   "metadata": {
    "colab": {
     "base_uri": "https://localhost:8080/",
     "height": 1120
    },
    "colab_type": "code",
    "id": "P898PgYXvmxH",
    "outputId": "b4d51d33-20fb-4cab-8346-6effe344f0ff"
   },
   "outputs": [
    {
     "data": {
      "text/plain": [
       "<seaborn.axisgrid.PairGrid at 0x7fa7acbf4518>"
      ]
     },
     "execution_count": 13,
     "metadata": {
      "tags": []
     },
     "output_type": "execute_result"
    },
    {
     "data": {
      "image/png": "[encoded data removed]",
      "text/plain": [
       "<matplotlib.figure.Figure at 0x7fa7acbf4c50>"
      ]
     },
     "metadata": {
      "tags": []
     },
     "output_type": "display_data"
    }
   ],
   "source": [
    "sns.pairplot(df, size=1.5)"
   ]
  },
  {
   "cell_type": "code",
   "execution_count": 0,
   "metadata": {
    "colab": {},
    "colab_type": "code",
    "id": "Shj079RXHecF"
   },
   "outputs": [],
   "source": [
    "# perimeter and area are highly correlated with radius\n",
    "fea_cols = df.columns[[(not df.columns[i].endswith(\"perimeter\")) \\\n",
    "                     and (not df.columns[i].endswith(\"area\")) \\\n",
    "                     for i in range(df.shape[1])]]"
   ]
  },
  {
   "cell_type": "code",
   "execution_count": 0,
   "metadata": {
    "colab": {
     "base_uri": "https://localhost:8080/",
     "height": 34
    },
    "colab_type": "code",
    "id": "vdUoBjmX1qvh",
    "outputId": "e9493a96-1b04-4d2c-de8c-4046ac678060"
   },
   "outputs": [
    {
     "name": "stdout",
     "output_type": "stream",
     "text": [
      "(569, 8) (569,)\n"
     ]
    }
   ],
   "source": [
    "dfX = pd.DataFrame(df[fea_cols])\n",
    "\n",
    "print(dfX.shape, dfy.shape)"
   ]
  },
  {
   "cell_type": "markdown",
   "metadata": {
    "colab_type": "text",
    "id": "1pVQ4OmG7Ljd"
   },
   "source": [
    "### How does the dataset look like after preprocessing?"
   ]
  },
  {
   "cell_type": "code",
   "execution_count": 0,
   "metadata": {
    "colab": {
     "base_uri": "https://localhost:8080/",
     "height": 238
    },
    "colab_type": "code",
    "id": "e6YX8vvi1shr",
    "outputId": "f3fe61e1-61f6-4c13-8501-9b1287bf22bc"
   },
   "outputs": [
    {
     "data": {
      "text/html": [
       "<div>\n",
       "<style scoped>\n",
       "    .dataframe tbody tr th:only-of-type {\n",
       "        vertical-align: middle;\n",
       "    }\n",
       "\n",
       "    .dataframe tbody tr th {\n",
       "        vertical-align: top;\n",
       "    }\n",
       "\n",
       "    .dataframe thead th {\n",
       "        text-align: right;\n",
       "    }\n",
       "</style>\n",
       "<table border=\"1\" class=\"dataframe\">\n",
       "  <thead>\n",
       "    <tr style=\"text-align: right;\">\n",
       "      <th></th>\n",
       "      <th>mean radius</th>\n",
       "      <th>mean texture</th>\n",
       "      <th>mean smoothness</th>\n",
       "      <th>mean compactness</th>\n",
       "      <th>mean concavity</th>\n",
       "      <th>mean concave points</th>\n",
       "      <th>mean symmetry</th>\n",
       "      <th>mean fractal dimension</th>\n",
       "    </tr>\n",
       "  </thead>\n",
       "  <tbody>\n",
       "    <tr>\n",
       "      <th>0</th>\n",
       "      <td>17.99</td>\n",
       "      <td>10.38</td>\n",
       "      <td>0.11840</td>\n",
       "      <td>0.27760</td>\n",
       "      <td>0.3001</td>\n",
       "      <td>0.14710</td>\n",
       "      <td>0.2419</td>\n",
       "      <td>0.07871</td>\n",
       "    </tr>\n",
       "    <tr>\n",
       "      <th>1</th>\n",
       "      <td>20.57</td>\n",
       "      <td>17.77</td>\n",
       "      <td>0.08474</td>\n",
       "      <td>0.07864</td>\n",
       "      <td>0.0869</td>\n",
       "      <td>0.07017</td>\n",
       "      <td>0.1812</td>\n",
       "      <td>0.05667</td>\n",
       "    </tr>\n",
       "    <tr>\n",
       "      <th>2</th>\n",
       "      <td>19.69</td>\n",
       "      <td>21.25</td>\n",
       "      <td>0.10960</td>\n",
       "      <td>0.15990</td>\n",
       "      <td>0.1974</td>\n",
       "      <td>0.12790</td>\n",
       "      <td>0.2069</td>\n",
       "      <td>0.05999</td>\n",
       "    </tr>\n",
       "    <tr>\n",
       "      <th>3</th>\n",
       "      <td>11.42</td>\n",
       "      <td>20.38</td>\n",
       "      <td>0.14250</td>\n",
       "      <td>0.28390</td>\n",
       "      <td>0.2414</td>\n",
       "      <td>0.10520</td>\n",
       "      <td>0.2597</td>\n",
       "      <td>0.09744</td>\n",
       "    </tr>\n",
       "    <tr>\n",
       "      <th>4</th>\n",
       "      <td>20.29</td>\n",
       "      <td>14.34</td>\n",
       "      <td>0.10030</td>\n",
       "      <td>0.13280</td>\n",
       "      <td>0.1980</td>\n",
       "      <td>0.10430</td>\n",
       "      <td>0.1809</td>\n",
       "      <td>0.05883</td>\n",
       "    </tr>\n",
       "  </tbody>\n",
       "</table>\n",
       "</div>"
      ],
      "text/plain": [
       "   mean radius  mean texture  mean smoothness  mean compactness  \\\n",
       "0        17.99         10.38          0.11840           0.27760   \n",
       "1        20.57         17.77          0.08474           0.07864   \n",
       "2        19.69         21.25          0.10960           0.15990   \n",
       "3        11.42         20.38          0.14250           0.28390   \n",
       "4        20.29         14.34          0.10030           0.13280   \n",
       "\n",
       "   mean concavity  mean concave points  mean symmetry  mean fractal dimension  \n",
       "0          0.3001              0.14710         0.2419                 0.07871  \n",
       "1          0.0869              0.07017         0.1812                 0.05667  \n",
       "2          0.1974              0.12790         0.2069                 0.05999  \n",
       "3          0.2414              0.10520         0.2597                 0.09744  \n",
       "4          0.1980              0.10430         0.1809                 0.05883  "
      ]
     },
     "execution_count": 16,
     "metadata": {
      "tags": []
     },
     "output_type": "execute_result"
    }
   ],
   "source": [
    "# The causes\n",
    "dfX.head()"
   ]
  },
  {
   "cell_type": "code",
   "execution_count": 0,
   "metadata": {
    "colab": {
     "base_uri": "https://localhost:8080/",
     "height": 51
    },
    "colab_type": "code",
    "id": "V-6n4XSWptnK",
    "outputId": "e9dd56c6-0448-4145-ff3d-91d9ab802feb"
   },
   "outputs": [
    {
     "data": {
      "text/plain": [
       "array([0, 0, 0, 0, 0, 0, 0, 0, 0, 0, 0, 0, 0, 0, 0, 0, 0, 0, 0, 1, 1, 1,\n",
       "       0, 0, 0])"
      ]
     },
     "execution_count": 17,
     "metadata": {
      "tags": []
     },
     "output_type": "execute_result"
    }
   ],
   "source": [
    "# The outcome\n",
    "dfy[:25]"
   ]
  },
  {
   "cell_type": "markdown",
   "metadata": {
    "colab_type": "text",
    "id": "ty0TPGzn8KAA"
   },
   "source": [
    "# The dataset is ready. Let's do causal inference with the deconfounder!"
   ]
  },
  {
   "cell_type": "markdown",
   "metadata": {
    "colab_type": "text",
    "id": "pQc-2AYD1xQN"
   },
   "source": [
    "## Step 1: Fit a factor model to the assigned causes; it leads to a substitute confounder.\n"
   ]
  },
  {
   "cell_type": "markdown",
   "metadata": {
    "colab_type": "text",
    "id": "vZHcTdZv12b5"
   },
   "source": [
    "### We start with trying out a random factor model. How about a probabilistic PCA model?"
   ]
  },
  {
   "cell_type": "markdown",
   "metadata": {
    "colab_type": "text",
    "id": "sTTdtDGqvnWY"
   },
   "source": [
    "The matrix of assigned causes $X$\n",
    "\n",
    "*   It has N=569 rows and D=8 columns. \n",
    "*   N is the number of subjects/data points.\n",
    "*   D is the number of causes/data dimension."
   ]
  },
  {
   "cell_type": "markdown",
   "metadata": {
    "colab_type": "text",
    "id": "FgrUGC0BLzKU"
   },
   "source": [
    "### Step 1.1: Some chores first..."
   ]
  },
  {
   "cell_type": "markdown",
   "metadata": {
    "colab_type": "text",
    "id": "hD3RUa1jDaUO"
   },
   "source": [
    "#### Standardize the data\n",
    "This step is optional to the deconfounder. \n",
    "\n",
    "It only makes finding a good probabilistic PCA model easier."
   ]
  },
  {
   "cell_type": "code",
   "execution_count": 0,
   "metadata": {
    "colab": {},
    "colab_type": "code",
    "id": "n8cq48v59tG-"
   },
   "outputs": [],
   "source": [
    "# dfX.std()"
   ]
  },
  {
   "cell_type": "code",
   "execution_count": 0,
   "metadata": {
    "colab": {},
    "colab_type": "code",
    "id": "7Ps8ev0rw1km"
   },
   "outputs": [],
   "source": [
    "# standardize the data for PPCA\n",
    "X = np.array((dfX - dfX.mean())/dfX.std())"
   ]
  },
  {
   "cell_type": "markdown",
   "metadata": {
    "colab_type": "text",
    "id": "ov0ddf38Dl9k"
   },
   "source": [
    "#### Then holdout some data!"
   ]
  },
  {
   "cell_type": "markdown",
   "metadata": {
    "colab_type": "text",
    "id": "dU57s3fRD9V2"
   },
   "source": [
    "We will later need to check the factor model with some heldout data.\n",
    "So let's holdout some now."
   ]
  },
  {
   "cell_type": "code",
   "execution_count": 0,
   "metadata": {
    "colab": {},
    "colab_type": "code",
    "id": "-HLHcQaL86cq"
   },
   "outputs": [],
   "source": [
    "# randomly holdout some entries of X\n",
    "num_datapoints, data_dim = X.shape\n",
    "\n",
    "holdout_portion = 0.2\n",
    "n_holdout = int(holdout_portion * num_datapoints * data_dim)\n",
    "\n",
    "holdout_row = np.random.randint(num_datapoints, size=n_holdout)\n",
    "holdout_col = np.random.randint(data_dim, size=n_holdout)\n",
    "holdout_mask = (sparse.coo_matrix((np.ones(n_holdout), \\\n",
    "                            (holdout_row, holdout_col)), \\\n",
    "                            shape = X.shape)).toarray()\n",
    "\n",
    "holdout_subjects = np.unique(holdout_row)\n",
    "\n",
    "x_train = np.multiply(1-holdout_mask, X)\n",
    "x_vad = np.multiply(holdout_mask, X)"
   ]
  },
  {
   "cell_type": "markdown",
   "metadata": {
    "colab_type": "text",
    "id": "PEA6ktoDETJo"
   },
   "source": [
    "### Step 1.2: We are ready to fit a probabilistic PCA model to x_train."
   ]
  },
  {
   "cell_type": "markdown",
   "metadata": {
    "colab_type": "text",
    "id": "uZLPxtnJLAMW"
   },
   "source": [
    "This step of \"**fitting** a factor model\" involves **inferring latent variables** in probability models. \n",
    "\n",
    "We will rely on **Tensorflow Probability**, a library for probabilistic reasoning and statistical analysis in TensorFlow.\n",
    "\n",
    "There are many **other probabilistic programming toolboxes** for fitting factor models, e.g. Pyro, Stan. \n",
    "\n",
    "Some of the latent variable models can also be fit with **scikit-learn**. \n",
    "\n",
    "We are free to use any of these with the deconfounder!\n",
    "\n"
   ]
  },
  {
   "cell_type": "markdown",
   "metadata": {
    "colab_type": "text",
    "id": "twnsBOq7AI6o"
   },
   "source": [
    "\n",
    "\n",
    "**What does a probabilistic PCA model look like?**\n",
    "\n",
    "*  Probabilistic PCA is a dimensionality reduction technique. It models data with a lower dimensional latent space.\n",
    "\n",
    "*  We consider the assigned causes of the $n$th subject. We write it as $\\mathbf{x}_n$, which is a $D=8$ dimensional vector.\n",
    "\n",
    "*  The probabilistic PCA assumes the following data generating process for each $\\mathbf{x}_n$, $n = 1, ..., N$:\n",
    "\n",
    "\\begin{equation*}\n",
    "\\mathbf{z}_{n} \\stackrel{iid}{\\sim} N(\\mathbf{0}, \\mathbf{I}_K),\n",
    "\\end{equation*}\n",
    "\n",
    "\\begin{equation*}\n",
    "\\mathbf{x}_n \\mid \\mathbf{z}_n\n",
    "\\sim N(\\mathbf{z}_n\\mathbf{W}, \\sigma^2\\mathbf{I}_D).\n",
    "\\end{equation*}\n",
    "\n",
    "\n",
    "*  We construct a $K$-dimensional substitute confounder $\\mathbf{z}_{n}$ for each subject $n$, $n = 1, ..., N$. \n",
    "*  Each $\\mathbf{z}_{n}$ is a $K$-dimensional latent vector, $n = 1, ..., N$. \n",
    "\n",
    "\n"
   ]
  },
  {
   "cell_type": "code",
   "execution_count": 0,
   "metadata": {
    "colab": {},
    "colab_type": "code",
    "id": "PuW5cLY-v6gh"
   },
   "outputs": [],
   "source": [
    "def ppca_model(data_dim, latent_dim, num_datapoints, stddv_datapoints):\n",
    "    w = ed.Normal(loc=tf.zeros([latent_dim, data_dim]),\n",
    "                scale=tf.ones([latent_dim, data_dim]),\n",
    "                name=\"w\")  # parameter\n",
    "    z = ed.Normal(loc=tf.zeros([num_datapoints, latent_dim]),\n",
    "                scale=tf.ones([num_datapoints, latent_dim]), \n",
    "                name=\"z\")  # local latent variable / substitute confounder\n",
    "    x = ed.Normal(loc=tf.multiply(tf.matmul(z, w), 1-holdout_mask),\n",
    "                scale=stddv_datapoints * tf.ones([num_datapoints, data_dim]),\n",
    "                name=\"x\")  # (modeled) data\n",
    "    return x, (w, z)\n",
    "\n",
    "log_joint = ed.make_log_joint_fn(ppca_model)"
   ]
  },
  {
   "cell_type": "markdown",
   "metadata": {
    "colab_type": "text",
    "id": "bHhvv14CIeCN"
   },
   "source": [
    "**Let's fit a probabilistic PCA model with K = 2 latent dimensions.**"
   ]
  },
  {
   "cell_type": "code",
   "execution_count": 0,
   "metadata": {
    "colab": {},
    "colab_type": "code",
    "id": "FCxTNg-fxFwl"
   },
   "outputs": [],
   "source": [
    "latent_dim = 2\n",
    "stddv_datapoints = 0.1\n",
    "\n",
    "model = ppca_model(data_dim=data_dim,\n",
    "                   latent_dim=latent_dim,\n",
    "                   num_datapoints=num_datapoints,\n",
    "                   stddv_datapoints=stddv_datapoints)"
   ]
  },
  {
   "cell_type": "markdown",
   "metadata": {
    "colab_type": "text",
    "id": "a4IEJ4QhItaD"
   },
   "source": [
    "The cell below implements **variational inference** for probabilistic PCA  in tensorflow probability.\n",
    "\n",
    "You are free to fit the probabilistic PCA in your favourite ways with your favourite package. \n",
    "\n",
    "Note: approximate inference is perfectly fine!\n",
    "\n",
    "It is orthogonal to our discussion around the deconfounder.\n",
    "\n",
    "Let's **ignore** that for now (and forever).\n"
   ]
  },
  {
   "cell_type": "code",
   "execution_count": 0,
   "metadata": {
    "colab": {
     "base_uri": "https://localhost:8080/",
     "height": 521
    },
    "colab_type": "code",
    "id": "3a3_Bya5xG6M",
    "outputId": "694bb411-b87b-4ffe-b0f9-dde3f421090d"
   },
   "outputs": [
    {
     "name": "stdout",
     "output_type": "stream",
     "text": [
      "Inferred axes:\n",
      "[[ 1.0657768   0.7117974   0.06351132  0.5483043   0.7629369   0.8615003\n",
      "   0.10290438 -0.40677893]\n",
      " [-0.20814618 -0.34985837  0.8877295   0.7185301   0.48308808  0.34881124\n",
      "   0.8212925   1.0651304 ]]\n",
      "Standard Deviation:\n",
      "[[0.00943145 0.0087002  0.00819345 0.00831227 0.00870339 0.01042197\n",
      "  0.01169398 0.01013054]\n",
      " [0.01030399 0.01017774 0.00799988 0.00906306 0.00936898 0.00806279\n",
      "  0.0075188  0.00970751]]\n"
     ]
    },
    {
     "data": {
      "image/png": "[encoded data removed]",
      "text/plain": [
       "<matplotlib.figure.Figure at 0x7fa7918703c8>"
      ]
     },
     "metadata": {
      "tags": []
     },
     "output_type": "display_data"
    }
   ],
   "source": [
    "def variational_model(qw_mean, qw_stddv, qz_mean, qz_stddv):\n",
    "    qw = ed.Normal(loc=qw_mean, scale=qw_stddv, name=\"qw\")\n",
    "    qz = ed.Normal(loc=qz_mean, scale=qz_stddv, name=\"qz\")\n",
    "    return qw, qz\n",
    "\n",
    "\n",
    "log_q = ed.make_log_joint_fn(variational_model)\n",
    "\n",
    "def target(w, z):\n",
    "    \"\"\"Unnormalized target density as a function of the parameters.\"\"\"\n",
    "    return log_joint(data_dim=data_dim,\n",
    "                   latent_dim=latent_dim,\n",
    "                   num_datapoints=num_datapoints,\n",
    "                   stddv_datapoints=stddv_datapoints,\n",
    "                   w=w, z=z, x=x_train)\n",
    "\n",
    "def target_q(qw, qz):\n",
    "    return log_q(qw_mean=qw_mean, qw_stddv=qw_stddv,\n",
    "               qz_mean=qz_mean, qz_stddv=qz_stddv,\n",
    "               qw=qw, qz=qz)\n",
    "\n",
    "\n",
    "qw_mean = tf.Variable(np.ones([latent_dim, data_dim]), dtype=tf.float32)\n",
    "qz_mean = tf.Variable(np.ones([num_datapoints, latent_dim]), dtype=tf.float32)\n",
    "qw_stddv = tf.nn.softplus(tf.Variable(-4 * np.ones([latent_dim, data_dim]), dtype=tf.float32))\n",
    "qz_stddv = tf.nn.softplus(tf.Variable(-4 * np.ones([num_datapoints, latent_dim]), dtype=tf.float32))\n",
    "\n",
    "qw, qz = variational_model(qw_mean=qw_mean, qw_stddv=qw_stddv,\n",
    "                           qz_mean=qz_mean, qz_stddv=qz_stddv)\n",
    "\n",
    "\n",
    "energy = target(qw, qz)\n",
    "entropy = -target_q(qw, qz)\n",
    "\n",
    "elbo = energy + entropy\n",
    "\n",
    "\n",
    "optimizer = tf.train.AdamOptimizer(learning_rate = 0.05)\n",
    "train = optimizer.minimize(-elbo)\n",
    "\n",
    "init = tf.global_variables_initializer()\n",
    "\n",
    "t = []\n",
    "\n",
    "num_epochs = 500\n",
    "\n",
    "with tf.Session() as sess:\n",
    "    sess.run(init)\n",
    "\n",
    "    for i in range(num_epochs):\n",
    "        sess.run(train)\n",
    "        if i % 5 == 0:\n",
    "            t.append(sess.run([elbo]))\n",
    "\n",
    "        w_mean_inferred = sess.run(qw_mean)\n",
    "        w_stddv_inferred = sess.run(qw_stddv)\n",
    "        z_mean_inferred = sess.run(qz_mean)\n",
    "        z_stddv_inferred = sess.run(qz_stddv)\n",
    "        \n",
    "print(\"Inferred axes:\")\n",
    "print(w_mean_inferred)\n",
    "print(\"Standard Deviation:\")\n",
    "print(w_stddv_inferred)\n",
    "\n",
    "plt.plot(range(1, num_epochs, 5), t)\n",
    "plt.show()\n",
    "\n",
    "def replace_latents(w, z):\n",
    "\n",
    "    def interceptor(rv_constructor, *rv_args, **rv_kwargs):\n",
    "        \"\"\"Replaces the priors with actual values to generate samples from.\"\"\"\n",
    "        name = rv_kwargs.pop(\"name\")\n",
    "        if name == \"w\":\n",
    "            rv_kwargs[\"value\"] = w\n",
    "        elif name == \"z\":\n",
    "            rv_kwargs[\"value\"] = z\n",
    "        return rv_constructor(*rv_args, **rv_kwargs)\n",
    "\n",
    "    return interceptor"
   ]
  },
  {
   "cell_type": "markdown",
   "metadata": {
    "colab_type": "text",
    "id": "ygEgzBbxKcTC"
   },
   "source": [
    "So we just played some **magic** to **fit the probabilistic PCA** to the matrix of assigned causes $\\mathbf{X}$.\n",
    "\n",
    "\n",
    "**The only important thing here is: **\n",
    "\n",
    "We have **inferred** the latent variables $\\mathbf{z}_n, n=1, ..., N$ and the parameters $\\mathbf{W}$.\n",
    "\n",
    "Specifically, we have obtained from this step\n",
    "\n",
    "```\n",
    "w_mean_inferred,\n",
    "w_stddv_inferred,\n",
    "z_mean_inferred,\n",
    "z_stddv_inferred.\n",
    "```\n",
    "\n"
   ]
  },
  {
   "cell_type": "markdown",
   "metadata": {
    "colab_type": "text",
    "id": "CJ9ermuG-x9u"
   },
   "source": [
    "## Step 2: Check the factor model with a predictive check."
   ]
  },
  {
   "cell_type": "markdown",
   "metadata": {
    "colab_type": "text",
    "id": "EIWWRMoM_A6q"
   },
   "source": [
    "\n",
    "Now we are ready to **check** the probabilistic PCA model.\n",
    "\n",
    "The checking step is **very important** to the deconfounder. \n",
    "\n",
    "Pleeeeeze **always** check the factor model!"
   ]
  },
  {
   "cell_type": "markdown",
   "metadata": {
    "colab_type": "text",
    "id": "JNOOzWK6UiLz"
   },
   "source": [
    "**How** do we perform the predictive check?\n",
    "\n",
    "\n",
    "1.  We will **generate** some replicated datasets for the heldout entries.\n",
    "2.  And then **compare** the replicated datasets with the original dataset on the heldout entries.\n",
    "3.  If they **look similar**, then we are good to go.\n",
    "\n"
   ]
  },
  {
   "cell_type": "markdown",
   "metadata": {
    "colab_type": "text",
    "id": "19rmRCPIQ5-V"
   },
   "source": [
    "#### Step 2.1: We generate some replicated datasets first."
   ]
  },
  {
   "cell_type": "markdown",
   "metadata": {
    "colab_type": "text",
    "id": "j02uW2WzQ-0i"
   },
   "source": [
    "*  We will start with generating some **replicated datasets** from the predictive distribution of the assigned causes $X$:\n",
    "\\begin{align}\n",
    "  p(\\mathbf{X^{rep}_{n,heldout}} \\,|\\, \\mathbf{X_{n, obs}}) =\n",
    "  \\int p(\\mathbf{X_{n, heldout}} \\,|\\, \\mathbf{z}_n) p(\\mathbf{z_n} \\,|\\, \\mathbf{X}_{n, obs}) \\mathrm{d} \\mathbf{z_n}.\n",
    "\\end{align}\n",
    "\n",
    "*  That is, we generate these datasets from a probabilistic PCA model given the **inferred** latent variables $\\hat{p}(\\mathbf{z}_n)$ and $\\hat{p}(\\mathbf{W})$:\n",
    "\n",
    "\\begin{equation*}\n",
    "\\mathbf{z}_{n} \\sim \\hat{p}(\\mathbf{z}_n),\n",
    "\\end{equation*}\n",
    "\n",
    "\\begin{equation*}\n",
    "\\mathbf{W} \\sim \\hat{p}(\\mathbf{W}),\n",
    "\\end{equation*}\n",
    "\n",
    "\\begin{equation*}\n",
    "\\mathbf{x}_n \\mid \\mathbf{z}_n\n",
    "\\sim N(\\mathbf{z}_n\\mathbf{W}, \\sigma^2\\mathbf{I}_D).\n",
    "\\end{equation*}\n",
    "\n",
    "\n",
    "*  These replicated datasets tell us what the assigned causes $X$ **should look like** if it is indeed generated by the fitted probabilistic PCA model.\n"
   ]
  },
  {
   "cell_type": "code",
   "execution_count": 0,
   "metadata": {
    "colab": {},
    "colab_type": "code",
    "id": "DyCfobStxZmE"
   },
   "outputs": [],
   "source": [
    "n_rep = 100 # number of replicated datasets we generate\n",
    "holdout_gen = np.zeros((n_rep,*(x_train.shape)))\n",
    "\n",
    "for i in range(n_rep):\n",
    "    w_sample = npr.normal(w_mean_inferred, w_stddv_inferred)\n",
    "    z_sample = npr.normal(z_mean_inferred, z_stddv_inferred)\n",
    "\n",
    "    with ed.interception(replace_latents(w_sample, z_sample)):\n",
    "        generate = ppca_model(\n",
    "            data_dim=data_dim, latent_dim=latent_dim,\n",
    "            num_datapoints=num_datapoints, stddv_datapoints=stddv_datapoints)\n",
    "\n",
    "    with tf.Session() as sess:\n",
    "        x_generated, _ = sess.run(generate)\n",
    "\n",
    "    # look only at the heldout entries\n",
    "    holdout_gen[i] = np.multiply(x_generated, holdout_mask)"
   ]
  },
  {
   "cell_type": "markdown",
   "metadata": {
    "colab_type": "text",
    "id": "9mm5Ff83R2ia"
   },
   "source": [
    "#### Step 2.2: Then we compute the test statistic on both the original and the replicated dataset."
   ]
  },
  {
   "cell_type": "markdown",
   "metadata": {
    "colab_type": "text",
    "id": "ncxX06n7SaTU"
   },
   "source": [
    "\n",
    "\n",
    "*   We use the **test statistic** of **expected heldout log likelihood**:\n",
    "\\begin{align}\n",
    "  t(\\mathbf{X_{n,heldout}}) = \\mathbb{E}_{\\mathbf{Z}, \\mathbf{W}}[{\\log p(\\mathbf{X_{n,heldout}} \\,|\\, \\mathbf{Z}, \\mathbf{W}) \\,|\\,\n",
    "  \\mathbf{X_{n,obs}}}].\n",
    "\\end{align}\n",
    "\n",
    "*   We calculate this test statistic **for each $n$** and for **both** the **original** dataset $\\mathbf{X_{n,heldout}}$ and the **replicated** dataset $\\mathbf{X^{rep}_{n,heldout}}$.\n",
    "\n"
   ]
  },
  {
   "cell_type": "code",
   "execution_count": 0,
   "metadata": {
    "colab": {},
    "colab_type": "code",
    "id": "F8VuWkc2xbKL"
   },
   "outputs": [],
   "source": [
    "n_eval = 100 # we draw samples from the inferred Z and W\n",
    "obs_ll = []\n",
    "rep_ll = []\n",
    "for j in range(n_eval):\n",
    "    w_sample = npr.normal(w_mean_inferred, w_stddv_inferred)\n",
    "    z_sample = npr.normal(z_mean_inferred, z_stddv_inferred)\n",
    "    \n",
    "    holdoutmean_sample = np.multiply(z_sample.dot(w_sample), holdout_mask)\n",
    "    obs_ll.append(np.mean(stats.norm(holdoutmean_sample, \\\n",
    "                        stddv_datapoints).logpdf(x_vad), axis=1))\n",
    "\n",
    "    rep_ll.append(np.mean(stats.norm(holdoutmean_sample, \\\n",
    "                        stddv_datapoints).logpdf(holdout_gen),axis=2))\n",
    "    \n",
    "obs_ll_per_zi, rep_ll_per_zi = np.mean(np.array(obs_ll), axis=0), np.mean(np.array(rep_ll), axis=0)"
   ]
  },
  {
   "cell_type": "markdown",
   "metadata": {
    "colab_type": "text",
    "id": "b-HxX1jmZSzU"
   },
   "source": [
    "#### Step 2.3: Finally we compare the test statistic of the original and the replicated dataset."
   ]
  },
  {
   "cell_type": "markdown",
   "metadata": {
    "colab_type": "text",
    "id": "OkVFMJLnZdvE"
   },
   "source": [
    "\n",
    "*   We compare the test statistics via the $p$-values.\n",
    "\\begin{equation*}\n",
    "  \\text{$p$-value} = p\\left(t(\\mathbf{X_{n,heldout}^{rep}}) < t(\\mathbf{X_{n, heldout}})\\right).\n",
    "\\end{equation*}\n",
    "\n",
    "*   The **smaller** the $p$-value is, the **more different** the original dataset is from the replicated dataset.\n",
    "\n",
    "*   We **fail** the check if the $p$-value is **small**.\n",
    "\n",
    "*   Note this goes in the opposite direction to the conventional usage of $p$-values.\n",
    "\n"
   ]
  },
  {
   "cell_type": "markdown",
   "metadata": {
    "colab_type": "text",
    "id": "rpX1T3Z-bY5L"
   },
   "source": [
    "We compute a $p$-value for each $n$ and output the average $p$-values."
   ]
  },
  {
   "cell_type": "code",
   "execution_count": 0,
   "metadata": {
    "colab": {
     "base_uri": "https://localhost:8080/",
     "height": 34
    },
    "colab_type": "code",
    "id": "IIX0LYw4GUiM",
    "outputId": "936a56a1-5821-4b56-f8d5-bf590c67a570"
   },
   "outputs": [
    {
     "name": "stdout",
     "output_type": "stream",
     "text": [
      "Predictive check p-values 0.6842410714285714\n"
     ]
    }
   ],
   "source": [
    "pvals = np.array([np.mean(rep_ll_per_zi[:,i] < obs_ll_per_zi[i]) for i in range(num_datapoints)])\n",
    "holdout_subjects = np.unique(holdout_row)\n",
    "overall_pval = np.mean(pvals[holdout_subjects])\n",
    "print(\"Predictive check p-values\", overall_pval)"
   ]
  },
  {
   "cell_type": "markdown",
   "metadata": {
    "colab_type": "text",
    "id": "Vba2-ap0cg7A"
   },
   "source": [
    "**We passed the check!**\n",
    "\n",
    "The substitute confounder $\\mathbf{z}_n$ constructed in Step 1 is valid. We are ready to move on!"
   ]
  },
  {
   "cell_type": "markdown",
   "metadata": {
    "colab_type": "text",
    "id": "FcsLigMobs-W"
   },
   "source": [
    "#### An optional step\n",
    "\n",
    "We can also peak at **the predictive check of individual subjects**.\n",
    "\n",
    "This step is just for fun. It is how we generate Figure 2 of the paper.\n",
    "\n",
    "\n",
    "\n",
    "*   We randomly choose a subject.\n",
    "*   Plot the kernel density estimate of the test statistic on the replicated datasets.\n",
    "*   Plot the test statistic on the original dataset (the dashed vertical line).\n",
    "\n",
    "\n"
   ]
  },
  {
   "cell_type": "code",
   "execution_count": 0,
   "metadata": {
    "colab": {
     "base_uri": "https://localhost:8080/",
     "height": 433
    },
    "colab_type": "code",
    "id": "pOgaNqPpJxJj",
    "outputId": "4c68777d-476b-4a50-c2df-8adfde450965"
   },
   "outputs": [
    {
     "name": "stderr",
     "output_type": "stream",
     "text": [
      "/usr/local/lib/python3.6/dist-packages/statsmodels/nonparametric/kde.py:475: DeprecationWarning: object of type <class 'numpy.float64'> cannot be safely interpreted as an integer.\n",
      "  grid,delta = np.linspace(a,b,gridsize,retstep=True)\n"
     ]
    },
    {
     "data": {
      "text/plain": [
       "<matplotlib.lines.Line2D at 0x7fa7933bc828>"
      ]
     },
     "execution_count": 27,
     "metadata": {
      "tags": []
     },
     "output_type": "execute_result"
    },
    {
     "data": {
      "image/png": "[encoded data removed]",
      "text/plain": [
       "<matplotlib.figure.Figure at 0x7fa7933bc5f8>"
      ]
     },
     "metadata": {
      "tags": []
     },
     "output_type": "display_data"
    }
   ],
   "source": [
    "subject_no = npr.choice(holdout_subjects) \n",
    "sns.kdeplot(rep_ll_per_zi[:,subject_no]).set_title(\"Predictive check for subject \"+str(subject_no))\n",
    "plt.axvline(x=obs_ll_per_zi[subject_no], linestyle='--')"
   ]
  },
  {
   "cell_type": "markdown",
   "metadata": {
    "colab_type": "text",
    "id": "4QSqF4hTDvov"
   },
   "source": [
    "## Step 3: Correct for the substitute confounder in a causal inference."
   ]
  },
  {
   "cell_type": "markdown",
   "metadata": {
    "colab_type": "text",
    "id": "rsvEIwaqeXbH"
   },
   "source": [
    "**How** to estimate causal effects?\n",
    "\n",
    "*  For simplicity, we fit a logistic regression as an outcome model here. \n",
    "\n",
    "*  The target is the observed outcome $y_n$, $n=1,\\ldots, N$.\n",
    "\n",
    "*  The regressor is the multiple causes $\\mathbf{X}_n$, $n=1,\\ldots, N$.\n",
    "\n",
    "**How** to correct for the substitute confounder?\n",
    "\n",
    "*  We include the substitute confounder $\\mathbf{Z}_n$, $n=1,\\ldots, N$, into the regressors."
   ]
  },
  {
   "cell_type": "code",
   "execution_count": 0,
   "metadata": {
    "colab": {},
    "colab_type": "code",
    "id": "_RYJR1BxR1QG"
   },
   "outputs": [],
   "source": [
    "# approximate the (random variable) substitute confounders with their inferred mean.\n",
    "Z_hat = z_mean_inferred \n",
    "# augment the regressors to be both the assigned causes X and the substitute confounder Z\n",
    "X_aug = np.column_stack([X, Z_hat])"
   ]
  },
  {
   "cell_type": "code",
   "execution_count": 0,
   "metadata": {
    "colab": {},
    "colab_type": "code",
    "id": "g45Th7DyR6Km"
   },
   "outputs": [],
   "source": [
    "# holdout some data from prediction later\n",
    "X_train, X_test, y_train, y_test = train_test_split(X_aug, dfy, test_size=0.2, random_state=0)"
   ]
  },
  {
   "cell_type": "code",
   "execution_count": 0,
   "metadata": {
    "colab": {
     "base_uri": "https://localhost:8080/",
     "height": 649
    },
    "colab_type": "code",
    "id": "LtabnZMmVw0J",
    "outputId": "5d3f0d7b-ab80-4ccb-d42f-64055dd8b264"
   },
   "outputs": [
    {
     "name": "stdout",
     "output_type": "stream",
     "text": [
      "Optimization terminated successfully.    (Exit mode 0)\n",
      "            Current function value: 0.13267453685445485\n",
      "            Iterations: 90\n",
      "            Function evaluations: 90\n",
      "            Gradient evaluations: 90\n",
      "                           Logit Regression Results                           \n",
      "==============================================================================\n",
      "Dep. Variable:                      y   No. Observations:                  455\n",
      "Model:                          Logit   Df Residuals:                      444\n",
      "Method:                           MLE   Df Model:                           10\n",
      "Date:                Wed, 26 Sep 2018   Pseudo R-squ.:                  0.7974\n",
      "Time:                        03:25:06   Log-Likelihood:                -60.367\n",
      "converged:                       True   LL-Null:                       -297.99\n",
      "                                        LLR p-value:                 8.566e-96\n",
      "==============================================================================\n",
      "                 coef    std err          z      P>|z|      [0.025      0.975]\n",
      "------------------------------------------------------------------------------\n",
      "const          0.7940      0.259      3.068      0.002       0.287       1.301\n",
      "x1            -2.7822      0.965     -2.883      0.004      -4.674      -0.891\n",
      "x2            -1.3808      0.398     -3.472      0.001      -2.160      -0.601\n",
      "x3            -1.0748      0.722     -1.490      0.136      -2.489       0.339\n",
      "x4             0.6899      0.840      0.821      0.412      -0.957       2.337\n",
      "x5            -0.7173      0.838     -0.856      0.392      -2.359       0.925\n",
      "x6            -1.4009      1.263     -1.109      0.267      -3.877       1.075\n",
      "x7            -0.2357      0.515     -0.458      0.647      -1.245       0.774\n",
      "x8             0.6517      0.811      0.804      0.421      -0.937       2.240\n",
      "x9            -2.0235      1.631     -1.241      0.215      -5.220       1.173\n",
      "x10           -0.9468      1.768     -0.536      0.592      -4.411       2.518\n",
      "==============================================================================\n",
      "\n",
      "Possibly complete quasi-separation: A fraction 0.17 of observations can be\n",
      "perfectly predicted. This might indicate that there is complete\n",
      "quasi-separation. In this case some parameters will not be identified.\n"
     ]
    },
    {
     "name": "stderr",
     "output_type": "stream",
     "text": [
      "/usr/local/lib/python3.6/dist-packages/statsmodels/discrete/discrete_model.py:2405: DeprecationWarning: `chisqprob` is deprecated!\n",
      "stats.chisqprob is deprecated in scipy 0.17.0; use stats.distributions.chi2.sf instead.\n",
      "  return stats.chisqprob(self.llr, self.df_model)\n"
     ]
    }
   ],
   "source": [
    "dcfX_train = sm.add_constant(X_train)\n",
    "dcflogit_model = sm.Logit(y_train, dcfX_train)\n",
    "dcfresult = dcflogit_model.fit_regularized(maxiter=5000)\n",
    "print(dcfresult.summary())"
   ]
  },
  {
   "cell_type": "code",
   "execution_count": 0,
   "metadata": {
    "colab": {},
    "colab_type": "code",
    "id": "dOz9bVViWyr0"
   },
   "outputs": [],
   "source": [
    "res = pd.DataFrame({\"causal_mean\": dcfresult.params[:data_dim+1], \\\n",
    "                  \"causal_std\": dcfresult.bse[:data_dim+1], \\\n",
    "                  \"causal_025\": dcfresult.conf_int()[:data_dim+1,0], \\\n",
    "                  \"causal_975\": dcfresult.conf_int()[:data_dim+1,1], \\\n",
    "                   \"causal_pval\": dcfresult.pvalues[:data_dim+1]})\n",
    "res[\"causal_sig\"] = (res[\"causal_pval\"] < 0.05)\n",
    "res = res.T\n",
    "res.columns = np.concatenate([[\"intercept\"], np.array(dfX.columns)])\n",
    "res = res.T"
   ]
  },
  {
   "cell_type": "code",
   "execution_count": 0,
   "metadata": {
    "colab": {
     "base_uri": "https://localhost:8080/",
     "height": 379
    },
    "colab_type": "code",
    "id": "h28MJM0bWbHL",
    "outputId": "e87ebe5e-9ae3-4b79-b120-11c16a4dea1f"
   },
   "outputs": [
    {
     "data": {
      "text/html": [
       "<div>\n",
       "<style scoped>\n",
       "    .dataframe tbody tr th:only-of-type {\n",
       "        vertical-align: middle;\n",
       "    }\n",
       "\n",
       "    .dataframe tbody tr th {\n",
       "        vertical-align: top;\n",
       "    }\n",
       "\n",
       "    .dataframe thead th {\n",
       "        text-align: right;\n",
       "    }\n",
       "</style>\n",
       "<table border=\"1\" class=\"dataframe\">\n",
       "  <thead>\n",
       "    <tr style=\"text-align: right;\">\n",
       "      <th></th>\n",
       "      <th>causal_025</th>\n",
       "      <th>causal_975</th>\n",
       "      <th>causal_mean</th>\n",
       "      <th>causal_pval</th>\n",
       "      <th>causal_std</th>\n",
       "      <th>causal_sig</th>\n",
       "    </tr>\n",
       "  </thead>\n",
       "  <tbody>\n",
       "    <tr>\n",
       "      <th>intercept</th>\n",
       "      <td>0.286743</td>\n",
       "      <td>1.30119</td>\n",
       "      <td>0.793969</td>\n",
       "      <td>0.00215524</td>\n",
       "      <td>0.258794</td>\n",
       "      <td>True</td>\n",
       "    </tr>\n",
       "    <tr>\n",
       "      <th>mean radius</th>\n",
       "      <td>-4.67359</td>\n",
       "      <td>-0.890708</td>\n",
       "      <td>-2.78215</td>\n",
       "      <td>0.00393983</td>\n",
       "      <td>0.965039</td>\n",
       "      <td>True</td>\n",
       "    </tr>\n",
       "    <tr>\n",
       "      <th>mean texture</th>\n",
       "      <td>-2.16031</td>\n",
       "      <td>-0.601335</td>\n",
       "      <td>-1.38082</td>\n",
       "      <td>0.000516645</td>\n",
       "      <td>0.397705</td>\n",
       "      <td>True</td>\n",
       "    </tr>\n",
       "    <tr>\n",
       "      <th>mean smoothness</th>\n",
       "      <td>-2.48904</td>\n",
       "      <td>0.339427</td>\n",
       "      <td>-1.07481</td>\n",
       "      <td>0.136341</td>\n",
       "      <td>0.721561</td>\n",
       "      <td>False</td>\n",
       "    </tr>\n",
       "    <tr>\n",
       "      <th>mean compactness</th>\n",
       "      <td>-0.957365</td>\n",
       "      <td>2.33711</td>\n",
       "      <td>0.689871</td>\n",
       "      <td>0.411736</td>\n",
       "      <td>0.840442</td>\n",
       "      <td>False</td>\n",
       "    </tr>\n",
       "    <tr>\n",
       "      <th>mean concavity</th>\n",
       "      <td>-2.35923</td>\n",
       "      <td>0.924694</td>\n",
       "      <td>-0.717269</td>\n",
       "      <td>0.391896</td>\n",
       "      <td>0.837751</td>\n",
       "      <td>False</td>\n",
       "    </tr>\n",
       "    <tr>\n",
       "      <th>mean concave points</th>\n",
       "      <td>-3.87681</td>\n",
       "      <td>1.07505</td>\n",
       "      <td>-1.40088</td>\n",
       "      <td>0.267452</td>\n",
       "      <td>1.26325</td>\n",
       "      <td>False</td>\n",
       "    </tr>\n",
       "    <tr>\n",
       "      <th>mean symmetry</th>\n",
       "      <td>-1.24517</td>\n",
       "      <td>0.773808</td>\n",
       "      <td>-0.235679</td>\n",
       "      <td>0.647253</td>\n",
       "      <td>0.515054</td>\n",
       "      <td>False</td>\n",
       "    </tr>\n",
       "    <tr>\n",
       "      <th>mean fractal dimension</th>\n",
       "      <td>-0.936826</td>\n",
       "      <td>2.24028</td>\n",
       "      <td>0.651725</td>\n",
       "      <td>0.421338</td>\n",
       "      <td>0.8105</td>\n",
       "      <td>False</td>\n",
       "    </tr>\n",
       "  </tbody>\n",
       "</table>\n",
       "</div>"
      ],
      "text/plain": [
       "                       causal_025 causal_975 causal_mean  causal_pval  \\\n",
       "intercept                0.286743    1.30119    0.793969   0.00215524   \n",
       "mean radius              -4.67359  -0.890708    -2.78215   0.00393983   \n",
       "mean texture             -2.16031  -0.601335    -1.38082  0.000516645   \n",
       "mean smoothness          -2.48904   0.339427    -1.07481     0.136341   \n",
       "mean compactness        -0.957365    2.33711    0.689871     0.411736   \n",
       "mean concavity           -2.35923   0.924694   -0.717269     0.391896   \n",
       "mean concave points      -3.87681    1.07505    -1.40088     0.267452   \n",
       "mean symmetry            -1.24517   0.773808   -0.235679     0.647253   \n",
       "mean fractal dimension  -0.936826    2.24028    0.651725     0.421338   \n",
       "\n",
       "                       causal_std causal_sig  \n",
       "intercept                0.258794       True  \n",
       "mean radius              0.965039       True  \n",
       "mean texture             0.397705       True  \n",
       "mean smoothness          0.721561      False  \n",
       "mean compactness         0.840442      False  \n",
       "mean concavity           0.837751      False  \n",
       "mean concave points       1.26325      False  \n",
       "mean symmetry            0.515054      False  \n",
       "mean fractal dimension     0.8105      False  "
      ]
     },
     "execution_count": 32,
     "metadata": {
      "tags": []
     },
     "output_type": "execute_result"
    }
   ],
   "source": [
    "res"
   ]
  },
  {
   "cell_type": "markdown",
   "metadata": {
    "colab_type": "text",
    "id": "J-6ROpAtgcL2"
   },
   "source": [
    "We check the predictions to see if the logistic outcome model is a good outcome model."
   ]
  },
  {
   "cell_type": "code",
   "execution_count": 0,
   "metadata": {
    "colab": {
     "base_uri": "https://localhost:8080/",
     "height": 136
    },
    "colab_type": "code",
    "id": "bSIWv2tYg5mE",
    "outputId": "e48e2e46-fe2f-4758-aede-80bde310a209"
   },
   "outputs": [
    {
     "name": "stdout",
     "output_type": "stream",
     "text": [
      "             precision    recall  f1-score   support\n",
      "\n",
      "          0       0.96      0.91      0.93        47\n",
      "          1       0.94      0.97      0.96        67\n",
      "\n",
      "avg / total       0.95      0.95      0.95       114\n",
      "\n"
     ]
    }
   ],
   "source": [
    "# make predictions with the causal model \n",
    "dcfX_test = X_test\n",
    "dcfy_predprob = dcfresult.predict(sm.add_constant(dcfX_test))\n",
    "dcfy_pred = (dcfy_predprob > 0.5)\n",
    "print(classification_report(y_test, dcfy_pred))"
   ]
  },
  {
   "cell_type": "markdown",
   "metadata": {
    "colab_type": "text",
    "id": "pSKOJQzJ0xr0"
   },
   "source": [
    "# We are done!"
   ]
  },
  {
   "cell_type": "markdown",
   "metadata": {
    "colab_type": "text",
    "id": "2kR2t_dD_QwC"
   },
   "source": [
    "We have computed the average causal effect of raising the causes by one unit (see the \"causal mean\" column above)."
   ]
  },
  {
   "cell_type": "markdown",
   "metadata": {
    "colab_type": "text",
    "id": "BSYKVbRa1TxU"
   },
   "source": [
    "# Is the deconfounder worth the effort?"
   ]
  },
  {
   "cell_type": "markdown",
   "metadata": {
    "colab_type": "text",
    "id": "T6-HaUWP1DjY"
   },
   "source": [
    "We finally compare the **causal** estimation (with the deconfounder) with the **noncausal** estimation (with vanilla regression)."
   ]
  },
  {
   "cell_type": "markdown",
   "metadata": {
    "colab_type": "text",
    "id": "SBqs58JpWkaR"
   },
   "source": [
    "## The classical logistic regression! Note it is noncausal :-("
   ]
  },
  {
   "cell_type": "code",
   "execution_count": 0,
   "metadata": {
    "colab": {
     "base_uri": "https://localhost:8080/",
     "height": 615
    },
    "colab_type": "code",
    "id": "ClmfJrvgWJ1d",
    "outputId": "fe941b35-c76c-4ecc-e4e9-2da4d36bf1fc"
   },
   "outputs": [
    {
     "name": "stdout",
     "output_type": "stream",
     "text": [
      "Optimization terminated successfully.    (Exit mode 0)\n",
      "            Current function value: 0.13451539390572878\n",
      "            Iterations: 71\n",
      "            Function evaluations: 71\n",
      "            Gradient evaluations: 71\n",
      "                           Logit Regression Results                           \n",
      "==============================================================================\n",
      "Dep. Variable:                      y   No. Observations:                  455\n",
      "Model:                          Logit   Df Residuals:                      446\n",
      "Method:                           MLE   Df Model:                            8\n",
      "Date:                Wed, 26 Sep 2018   Pseudo R-squ.:                  0.7946\n",
      "Time:                        03:25:09   Log-Likelihood:                -61.205\n",
      "converged:                       True   LL-Null:                       -297.99\n",
      "                                        LLR p-value:                 3.283e-97\n",
      "==============================================================================\n",
      "                 coef    std err          z      P>|z|      [0.025      0.975]\n",
      "------------------------------------------------------------------------------\n",
      "const          0.7632      0.255      2.998      0.003       0.264       1.262\n",
      "x1            -3.2642      0.904     -3.611      0.000      -5.036      -1.492\n",
      "x2            -1.7189      0.307     -5.602      0.000      -2.320      -1.117\n",
      "x3            -1.2257      0.498     -2.462      0.014      -2.202      -0.250\n",
      "x4             0.3115      0.741      0.420      0.674      -1.142       1.765\n",
      "x5            -1.1317      0.717     -1.578      0.115      -2.538       0.274\n",
      "x6            -2.0079      1.172     -1.714      0.087      -4.304       0.289\n",
      "x7            -0.5413      0.324     -1.673      0.094      -1.176       0.093\n",
      "x8             0.5775      0.677      0.853      0.394      -0.750       1.905\n",
      "==============================================================================\n",
      "\n",
      "Possibly complete quasi-separation: A fraction 0.15 of observations can be\n",
      "perfectly predicted. This might indicate that there is complete\n",
      "quasi-separation. In this case some parameters will not be identified.\n"
     ]
    },
    {
     "name": "stderr",
     "output_type": "stream",
     "text": [
      "/usr/local/lib/python3.6/dist-packages/statsmodels/discrete/discrete_model.py:2405: DeprecationWarning: `chisqprob` is deprecated!\n",
      "stats.chisqprob is deprecated in scipy 0.17.0; use stats.distributions.chi2.sf instead.\n",
      "  return stats.chisqprob(self.llr, self.df_model)\n"
     ]
    }
   ],
   "source": [
    "# regress the outcome against the causes only (no substitute confounders)\n",
    "nodcfX_train = sm.add_constant(X_train[:,:X.shape[1]])\n",
    "nodcflogit_model = sm.Logit(y_train, nodcfX_train)\n",
    "nodcfresult = nodcflogit_model.fit_regularized(maxiter=5000)\n",
    "print(nodcfresult.summary())"
   ]
  },
  {
   "cell_type": "code",
   "execution_count": 0,
   "metadata": {
    "colab": {},
    "colab_type": "code",
    "id": "pP96iyOkXAya"
   },
   "outputs": [],
   "source": [
    "res[\"noncausal_mean\"] = np.array(nodcfresult.params)\n",
    "res[\"noncausal_std\"] = np.array(nodcfresult.bse)\n",
    "res[\"noncausal_025\"] = np.array(nodcfresult.conf_int()[:,0])\n",
    "res[\"noncausal_975\"] = np.array(nodcfresult.conf_int()[:,1])\n",
    "res[\"noncausal_pval\"] = np.array(nodcfresult.pvalues)\n",
    "res[\"noncausal_sig\"] = (res[\"noncausal_pval\"] < 0.05)"
   ]
  },
  {
   "cell_type": "code",
   "execution_count": 0,
   "metadata": {
    "colab": {},
    "colab_type": "code",
    "id": "ku49y-cKXJJW"
   },
   "outputs": [],
   "source": [
    "res[\"diff\"] = res[\"causal_mean\"] - res[\"noncausal_mean\"]\n",
    "res[\"pval_diff\"] = res[\"causal_pval\"] - res[\"noncausal_pval\"]"
   ]
  },
  {
   "cell_type": "code",
   "execution_count": 0,
   "metadata": {
    "colab": {},
    "colab_type": "code",
    "id": "fDudsVQQXQXY"
   },
   "outputs": [],
   "source": [
    "nodcfX_test = sm.add_constant(X_test[:,:X.shape[1]])\n",
    "nodcfy_predprob = nodcfresult.predict(nodcfX_test)\n",
    "nodcfy_pred = (nodcfy_predprob > 0.5)"
   ]
  },
  {
   "cell_type": "markdown",
   "metadata": {
    "colab_type": "text",
    "id": "QPJgm2mlhP0y"
   },
   "source": [
    "**Causal models do not hurt predictions here!**"
   ]
  },
  {
   "cell_type": "code",
   "execution_count": 0,
   "metadata": {
    "colab": {
     "base_uri": "https://localhost:8080/",
     "height": 376
    },
    "colab_type": "code",
    "id": "cveM4AMckC8v",
    "outputId": "4be2d3db-2284-4123-bc0a-17e6bfd29e19"
   },
   "outputs": [
    {
     "data": {
      "image/png": "[encoded data removed]",
      "text/plain": [
       "<matplotlib.figure.Figure at 0x7fa7937ed2b0>"
      ]
     },
     "metadata": {
      "tags": []
     },
     "output_type": "display_data"
    }
   ],
   "source": [
    "dcflogit_roc_auc = roc_auc_score(y_test, dcfy_pred)\n",
    "dcffpr, dcftpr, dcfthresholds = roc_curve(y_test, dcfy_predprob)\n",
    "nodcflogit_roc_auc = roc_auc_score(y_test, nodcfy_pred)\n",
    "nodcffpr, nodcftpr, nodcfthresholds = roc_curve(y_test, nodcfy_predprob)\n",
    "plt.figure()\n",
    "plt.plot(nodcffpr, nodcftpr, label='Noncausal Logistic Regression (area = %0.9f)' % nodcflogit_roc_auc)\n",
    "plt.plot(dcffpr, dcftpr, label='Causal Logistic Regression (area = %0.9f)' % dcflogit_roc_auc)\n",
    "plt.plot([0, 1], [0, 1],'r--')\n",
    "plt.xlim([0.0, 1.0])\n",
    "plt.ylim([0.0, 1.05])\n",
    "plt.xlabel('False Positive Rate')\n",
    "plt.ylabel('True Positive Rate')\n",
    "plt.title('Receiver operating characteristic')\n",
    "plt.legend(loc=\"lower right\")\n",
    "plt.savefig('Log_ROC')\n",
    "plt.show()"
   ]
  },
  {
   "cell_type": "markdown",
   "metadata": {
    "colab_type": "text",
    "id": "t8wC1WolhXS1"
   },
   "source": [
    "**But causal models do change the regression coefficients and which features are significant.**"
   ]
  },
  {
   "cell_type": "markdown",
   "metadata": {
    "colab_type": "text",
    "id": "W5oEmvWChw-m"
   },
   "source": [
    "*   The mean smoothness is a feature **significantly correlated** with the cancer diagnosis.\n",
    "\n",
    "*   But it does **not significantly** **causally affect** the cancer diagnosis.\n",
    "\n",
    "*   The effect of all features are **over-estimated** with the noncausal model except the \"mean compactness\"."
   ]
  },
  {
   "cell_type": "code",
   "execution_count": 0,
   "metadata": {
    "colab": {
     "base_uri": "https://localhost:8080/",
     "height": 467
    },
    "colab_type": "code",
    "id": "jaWGj7CuYskI",
    "outputId": "f7f9bb3b-4397-46c2-fc8d-c788f9978c8b"
   },
   "outputs": [
    {
     "data": {
      "text/html": [
       "<div>\n",
       "<style scoped>\n",
       "    .dataframe tbody tr th:only-of-type {\n",
       "        vertical-align: middle;\n",
       "    }\n",
       "\n",
       "    .dataframe tbody tr th {\n",
       "        vertical-align: top;\n",
       "    }\n",
       "\n",
       "    .dataframe thead th {\n",
       "        text-align: right;\n",
       "    }\n",
       "</style>\n",
       "<table border=\"1\" class=\"dataframe\">\n",
       "  <thead>\n",
       "    <tr style=\"text-align: right;\">\n",
       "      <th></th>\n",
       "      <th>pval_diff</th>\n",
       "      <th>causal_pval</th>\n",
       "      <th>noncausal_pval</th>\n",
       "      <th>causal_sig</th>\n",
       "      <th>noncausal_sig</th>\n",
       "      <th>causal_mean</th>\n",
       "      <th>noncausal_mean</th>\n",
       "    </tr>\n",
       "  </thead>\n",
       "  <tbody>\n",
       "    <tr>\n",
       "      <th>mean compactness</th>\n",
       "      <td>-0.262641</td>\n",
       "      <td>0.411736</td>\n",
       "      <td>6.743764e-01</td>\n",
       "      <td>False</td>\n",
       "      <td>False</td>\n",
       "      <td>0.689871</td>\n",
       "      <td>0.311494</td>\n",
       "    </tr>\n",
       "    <tr>\n",
       "      <th>intercept</th>\n",
       "      <td>-0.000561357</td>\n",
       "      <td>0.00215524</td>\n",
       "      <td>2.716595e-03</td>\n",
       "      <td>True</td>\n",
       "      <td>True</td>\n",
       "      <td>0.793969</td>\n",
       "      <td>0.763172</td>\n",
       "    </tr>\n",
       "    <tr>\n",
       "      <th>mean texture</th>\n",
       "      <td>0.000516623</td>\n",
       "      <td>0.000516645</td>\n",
       "      <td>2.123746e-08</td>\n",
       "      <td>True</td>\n",
       "      <td>True</td>\n",
       "      <td>-1.38082</td>\n",
       "      <td>-1.718860</td>\n",
       "    </tr>\n",
       "    <tr>\n",
       "      <th>mean radius</th>\n",
       "      <td>0.00363465</td>\n",
       "      <td>0.00393983</td>\n",
       "      <td>3.051830e-04</td>\n",
       "      <td>True</td>\n",
       "      <td>True</td>\n",
       "      <td>-2.78215</td>\n",
       "      <td>-3.264181</td>\n",
       "    </tr>\n",
       "    <tr>\n",
       "      <th>mean fractal dimension</th>\n",
       "      <td>0.027555</td>\n",
       "      <td>0.421338</td>\n",
       "      <td>3.937831e-01</td>\n",
       "      <td>False</td>\n",
       "      <td>False</td>\n",
       "      <td>0.651725</td>\n",
       "      <td>0.577489</td>\n",
       "    </tr>\n",
       "    <tr>\n",
       "      <th>mean smoothness</th>\n",
       "      <td>0.122505</td>\n",
       "      <td>0.136341</td>\n",
       "      <td>1.383540e-02</td>\n",
       "      <td>False</td>\n",
       "      <td>True</td>\n",
       "      <td>-1.07481</td>\n",
       "      <td>-1.225668</td>\n",
       "    </tr>\n",
       "    <tr>\n",
       "      <th>mean concave points</th>\n",
       "      <td>0.180868</td>\n",
       "      <td>0.267452</td>\n",
       "      <td>8.658376e-02</td>\n",
       "      <td>False</td>\n",
       "      <td>False</td>\n",
       "      <td>-1.40088</td>\n",
       "      <td>-2.007921</td>\n",
       "    </tr>\n",
       "    <tr>\n",
       "      <th>mean concavity</th>\n",
       "      <td>0.277228</td>\n",
       "      <td>0.391896</td>\n",
       "      <td>1.146687e-01</td>\n",
       "      <td>False</td>\n",
       "      <td>False</td>\n",
       "      <td>-0.717269</td>\n",
       "      <td>-1.131677</td>\n",
       "    </tr>\n",
       "    <tr>\n",
       "      <th>mean symmetry</th>\n",
       "      <td>0.552847</td>\n",
       "      <td>0.647253</td>\n",
       "      <td>9.440683e-02</td>\n",
       "      <td>False</td>\n",
       "      <td>False</td>\n",
       "      <td>-0.235679</td>\n",
       "      <td>-0.541292</td>\n",
       "    </tr>\n",
       "  </tbody>\n",
       "</table>\n",
       "</div>"
      ],
      "text/plain": [
       "                          pval_diff  causal_pval  noncausal_pval causal_sig  \\\n",
       "mean compactness          -0.262641     0.411736    6.743764e-01      False   \n",
       "intercept              -0.000561357   0.00215524    2.716595e-03       True   \n",
       "mean texture            0.000516623  0.000516645    2.123746e-08       True   \n",
       "mean radius              0.00363465   0.00393983    3.051830e-04       True   \n",
       "mean fractal dimension     0.027555     0.421338    3.937831e-01      False   \n",
       "mean smoothness            0.122505     0.136341    1.383540e-02      False   \n",
       "mean concave points        0.180868     0.267452    8.658376e-02      False   \n",
       "mean concavity             0.277228     0.391896    1.146687e-01      False   \n",
       "mean symmetry              0.552847     0.647253    9.440683e-02      False   \n",
       "\n",
       "                        noncausal_sig causal_mean  noncausal_mean  \n",
       "mean compactness                False    0.689871        0.311494  \n",
       "intercept                        True    0.793969        0.763172  \n",
       "mean texture                     True    -1.38082       -1.718860  \n",
       "mean radius                      True    -2.78215       -3.264181  \n",
       "mean fractal dimension          False    0.651725        0.577489  \n",
       "mean smoothness                  True    -1.07481       -1.225668  \n",
       "mean concave points             False    -1.40088       -2.007921  \n",
       "mean concavity                  False   -0.717269       -1.131677  \n",
       "mean symmetry                   False   -0.235679       -0.541292  "
      ]
     },
     "execution_count": 39,
     "metadata": {
      "tags": []
     },
     "output_type": "execute_result"
    }
   ],
   "source": [
    "res.sort_values(\"pval_diff\", ascending=True)[[\"pval_diff\", \"causal_pval\", \"noncausal_pval\", \"causal_sig\", \"noncausal_sig\", \"causal_mean\", \"noncausal_mean\"]]"
   ]
  },
  {
   "cell_type": "markdown",
   "metadata": {
    "colab_type": "text",
    "id": "mrhsKixc9nlz"
   },
   "source": [
    "*   We include causes into the regression **one-by-one**.\n",
    "*   The deconfounder coefficients **does not** flip signs.\n",
    "*   But classical logistic regression coefficients **does** flip signs.\n",
    "*   This suggests that **the deconfounder is causal**. \n",
    "*   It is because **causal** coefficients **do not change** as we include more variables into the system; causal estimation already controls for confounders so that it is causal.\n",
    "*   However, **correlation** coefficients **can change** as we include more variables into the system; if the added variable is a confounder, than the regression coefficients change to account for the confounding effects."
   ]
  },
  {
   "cell_type": "code",
   "execution_count": 0,
   "metadata": {
    "colab": {
     "base_uri": "https://localhost:8080/",
     "height": 4321
    },
    "colab_type": "code",
    "id": "WqFB3btE_WQk",
    "outputId": "06bd95d9-0d14-4fc0-fc67-7b976eada462"
   },
   "outputs": [
    {
     "name": "stdout",
     "output_type": "stream",
     "text": [
      "0 causes included\n",
      "Optimization terminated successfully.    (Exit mode 0)\n",
      "            Current function value: 0.17884001225800394\n",
      "            Iterations: 22\n",
      "            Function evaluations: 22\n",
      "            Gradient evaluations: 22\n",
      "                           Logit Regression Results                           \n",
      "==============================================================================\n",
      "Dep. Variable:                      y   No. Observations:                  455\n",
      "Model:                          Logit   Df Residuals:                      452\n",
      "Method:                           MLE   Df Model:                            2\n",
      "Date:                Wed, 26 Sep 2018   Pseudo R-squ.:                  0.7269\n",
      "Time:                        03:51:41   Log-Likelihood:                -81.372\n",
      "converged:                       True   LL-Null:                       -297.99\n",
      "                                        LLR p-value:                 8.406e-95\n",
      "==============================================================================\n",
      "                 coef    std err          z      P>|z|      [0.025      0.975]\n",
      "------------------------------------------------------------------------------\n",
      "const          0.8855      0.209      4.246      0.000       0.477       1.294\n",
      "x1            -5.4067      0.590     -9.166      0.000      -6.563      -4.251\n",
      "x2            -0.7133      0.214     -3.341      0.001      -1.132      -0.295\n",
      "==============================================================================\n",
      "1 causes included\n",
      "Optimization terminated successfully.    (Exit mode 0)\n",
      "            Current function value: 0.15939489902128479\n",
      "            Iterations: 30\n",
      "            Function evaluations: 31\n",
      "            Gradient evaluations: 30\n",
      "                           Logit Regression Results                           \n",
      "==============================================================================\n",
      "Dep. Variable:                      y   No. Observations:                  455\n",
      "Model:                          Logit   Df Residuals:                      451\n",
      "Method:                           MLE   Df Model:                            3\n",
      "Date:                Wed, 26 Sep 2018   Pseudo R-squ.:                  0.7566\n",
      "Time:                        03:51:41   Log-Likelihood:                -72.525\n",
      "converged:                       True   LL-Null:                       -297.99\n",
      "                                        LLR p-value:                 2.052e-97\n",
      "==============================================================================\n",
      "                 coef    std err          z      P>|z|      [0.025      0.975]\n",
      "------------------------------------------------------------------------------\n",
      "const          0.7089      0.219      3.239      0.001       0.280       1.138\n",
      "x1            -1.9883      0.523     -3.800      0.000      -3.014      -0.963\n",
      "x2            -4.2342      0.678     -6.243      0.000      -5.563      -2.905\n",
      "x3            -1.1495      0.262     -4.390      0.000      -1.663      -0.636\n",
      "==============================================================================\n",
      "2 causes included\n",
      "Optimization terminated successfully.    (Exit mode 0)\n",
      "            Current function value: 0.15013118448235743\n",
      "            Iterations: 38\n",
      "            Function evaluations: 38\n",
      "            Gradient evaluations: 38\n",
      "                           Logit Regression Results                           \n",
      "==============================================================================\n",
      "Dep. Variable:                      y   No. Observations:                  455\n",
      "Model:                          Logit   Df Residuals:                      450\n",
      "Method:                           MLE   Df Model:                            4\n",
      "Date:                Wed, 26 Sep 2018   Pseudo R-squ.:                  0.7708\n",
      "Time:                        03:51:41   Log-Likelihood:                -68.310\n",
      "converged:                       True   LL-Null:                       -297.99\n",
      "                                        LLR p-value:                 4.117e-98\n",
      "==============================================================================\n",
      "                 coef    std err          z      P>|z|      [0.025      0.975]\n",
      "------------------------------------------------------------------------------\n",
      "const          0.7423      0.229      3.240      0.001       0.293       1.191\n",
      "x1            -3.2170      0.743     -4.332      0.000      -4.672      -1.762\n",
      "x2            -1.0083      0.354     -2.848      0.004      -1.702      -0.314\n",
      "x3            -2.6749      0.868     -3.082      0.002      -4.376      -0.974\n",
      "x4            -1.7639      0.377     -4.675      0.000      -2.503      -1.024\n",
      "==============================================================================\n",
      "\n",
      "Possibly complete quasi-separation: A fraction 0.11 of observations can be\n",
      "perfectly predicted. This might indicate that there is complete\n",
      "quasi-separation. In this case some parameters will not be identified.\n",
      "3 causes included\n",
      "Optimization terminated successfully.    (Exit mode 0)\n",
      "            Current function value: 0.14017451882851403\n",
      "            Iterations: 45\n",
      "            Function evaluations: 45\n",
      "            Gradient evaluations: 45\n",
      "                           Logit Regression Results                           \n",
      "==============================================================================\n",
      "Dep. Variable:                      y   No. Observations:                  455\n",
      "Model:                          Logit   Df Residuals:                      449\n",
      "Method:                           MLE   Df Model:                            5\n",
      "Date:                Wed, 26 Sep 2018   Pseudo R-squ.:                  0.7860\n",
      "Time:                        03:51:41   Log-Likelihood:                -63.779\n",
      "converged:                       True   LL-Null:                       -297.99\n",
      "                                        LLR p-value:                 5.220e-99\n",
      "==============================================================================\n",
      "                 coef    std err          z      P>|z|      [0.025      0.975]\n",
      "------------------------------------------------------------------------------\n",
      "const          0.8874      0.248      3.583      0.000       0.402       1.373\n",
      "x1            -3.2516      0.771     -4.218      0.000      -4.763      -1.741\n",
      "x2            -1.0842      0.366     -2.960      0.003      -1.802      -0.366\n",
      "x3            -1.3478      0.478     -2.818      0.005      -2.285      -0.410\n",
      "x4            -2.9646      0.867     -3.421      0.001      -4.663      -1.266\n",
      "x5            -0.7219      0.537     -1.345      0.179      -1.773       0.330\n",
      "==============================================================================\n",
      "\n",
      "Possibly complete quasi-separation: A fraction 0.15 of observations can be\n",
      "perfectly predicted. This might indicate that there is complete\n",
      "quasi-separation. In this case some parameters will not be identified.\n",
      "4 causes included\n",
      "Optimization terminated successfully.    (Exit mode 0)\n",
      "            Current function value: 0.1372557735182052\n",
      "            Iterations: 55\n",
      "            Function evaluations: 55\n",
      "            Gradient evaluations: 55\n",
      "                           Logit Regression Results                           \n",
      "==============================================================================\n",
      "Dep. Variable:                      y   No. Observations:                  455\n",
      "Model:                          Logit   Df Residuals:                      448\n",
      "Method:                           MLE   Df Model:                            6\n",
      "Date:                Wed, 26 Sep 2018   Pseudo R-squ.:                  0.7904\n",
      "Time:                        03:51:41   Log-Likelihood:                -62.451\n",
      "converged:                       True   LL-Null:                       -297.99\n",
      "                                        LLR p-value:                 1.426e-98\n",
      "==============================================================================\n",
      "                 coef    std err          z      P>|z|      [0.025      0.975]\n",
      "------------------------------------------------------------------------------\n",
      "const          0.8356      0.249      3.352      0.001       0.347       1.324\n",
      "x1            -3.2847      0.774     -4.245      0.000      -4.801      -1.768\n",
      "x2            -1.0759      0.363     -2.967      0.003      -1.787      -0.365\n",
      "x3            -1.0307      0.467     -2.209      0.027      -1.945      -0.116\n",
      "x4             1.1497      0.690      1.667      0.095      -0.202       2.501\n",
      "x5            -3.7983      1.018     -3.730      0.000      -5.794      -1.802\n",
      "x6            -1.8075      0.808     -2.237      0.025      -3.391      -0.224\n",
      "==============================================================================\n",
      "\n",
      "Possibly complete quasi-separation: A fraction 0.16 of observations can be\n",
      "perfectly predicted. This might indicate that there is complete\n",
      "quasi-separation. In this case some parameters will not be identified.\n",
      "5 causes included\n",
      "Optimization terminated successfully.    (Exit mode 0)\n",
      "            Current function value: 0.13599998759971046\n",
      "            Iterations: 68\n",
      "            Function evaluations: 68\n",
      "            Gradient evaluations: 68\n",
      "                           Logit Regression Results                           \n",
      "==============================================================================\n",
      "Dep. Variable:                      y   No. Observations:                  455\n",
      "Model:                          Logit   Df Residuals:                      447\n",
      "Method:                           MLE   Df Model:                            7\n",
      "Date:                Wed, 26 Sep 2018   Pseudo R-squ.:                  0.7923\n",
      "Time:                        03:51:41   Log-Likelihood:                -61.880\n",
      "converged:                       True   LL-Null:                       -297.99\n",
      "                                        LLR p-value:                 7.500e-98\n",
      "==============================================================================\n",
      "                 coef    std err          z      P>|z|      [0.025      0.975]\n",
      "------------------------------------------------------------------------------\n",
      "const          0.8226      0.251      3.276      0.001       0.330       1.315\n",
      "x1            -3.5500      0.816     -4.352      0.000      -5.149      -1.951\n",
      "x2            -1.1995      0.379     -3.165      0.002      -1.942      -0.457\n",
      "x3            -1.4058      0.601     -2.340      0.019      -2.583      -0.228\n",
      "x4             1.0955      0.682      1.605      0.108      -0.242       2.433\n",
      "x5            -0.7355      0.691     -1.064      0.287      -2.090       0.619\n",
      "x6            -2.9752      1.254     -2.373      0.018      -5.433      -0.517\n",
      "x7            -1.1289      1.025     -1.102      0.271      -3.137       0.880\n",
      "==============================================================================\n",
      "\n",
      "Possibly complete quasi-separation: A fraction 0.18 of observations can be\n",
      "perfectly predicted. This might indicate that there is complete\n",
      "quasi-separation. In this case some parameters will not be identified.\n",
      "6 causes included\n",
      "Optimization terminated successfully.    (Exit mode 0)\n",
      "            Current function value: 0.13417129786592752\n",
      "            Iterations: 72\n",
      "            Function evaluations: 72\n",
      "            Gradient evaluations: 72\n",
      "                           Logit Regression Results                           \n",
      "==============================================================================\n",
      "Dep. Variable:                      y   No. Observations:                  455\n",
      "Model:                          Logit   Df Residuals:                      446\n",
      "Method:                           MLE   Df Model:                            8\n",
      "Date:                Wed, 26 Sep 2018   Pseudo R-squ.:                  0.7951\n",
      "Time:                        03:51:41   Log-Likelihood:                -61.048\n",
      "converged:                       True   LL-Null:                       -297.99\n",
      "                                        LLR p-value:                 2.813e-97\n",
      "==============================================================================\n",
      "                 coef    std err          z      P>|z|      [0.025      0.975]\n",
      "------------------------------------------------------------------------------\n",
      "const          0.7640      0.256      2.989      0.003       0.263       1.265\n",
      "x1            -3.0625      0.872     -3.511      0.000      -4.772      -1.353\n",
      "x2            -1.2930      0.379     -3.408      0.001      -2.037      -0.549\n",
      "x3            -1.0003      0.658     -1.520      0.129      -2.290       0.290\n",
      "x4             1.2091      0.693      1.744      0.081      -0.149       2.568\n",
      "x5            -0.3404      0.745     -0.457      0.648      -1.801       1.120\n",
      "x6            -1.5167      1.189     -1.276      0.202      -3.847       0.813\n",
      "x7            -2.4900      1.285     -1.938      0.053      -5.008       0.028\n",
      "x8            -1.1159      1.020     -1.094      0.274      -3.115       0.883\n",
      "==============================================================================\n",
      "\n",
      "Possibly complete quasi-separation: A fraction 0.16 of observations can be\n",
      "perfectly predicted. This might indicate that there is complete\n",
      "quasi-separation. In this case some parameters will not be identified.\n",
      "7 causes included\n",
      "Optimization terminated successfully.    (Exit mode 0)\n",
      "            Current function value: 0.13340033060780868\n",
      "            Iterations: 77\n",
      "            Function evaluations: 77\n",
      "            Gradient evaluations: 77\n",
      "                           Logit Regression Results                           \n",
      "==============================================================================\n",
      "Dep. Variable:                      y   No. Observations:                  455\n",
      "Model:                          Logit   Df Residuals:                      445\n",
      "Method:                           MLE   Df Model:                            9\n",
      "Date:                Wed, 26 Sep 2018   Pseudo R-squ.:                  0.7963\n",
      "Time:                        03:51:41   Log-Likelihood:                -60.697\n",
      "converged:                       True   LL-Null:                       -297.99\n",
      "                                        LLR p-value:                 1.584e-96\n",
      "==============================================================================\n",
      "                 coef    std err          z      P>|z|      [0.025      0.975]\n",
      "------------------------------------------------------------------------------\n",
      "const          0.7680      0.256      2.996      0.003       0.266       1.271\n",
      "x1            -3.1355      0.878     -3.569      0.000      -4.857      -1.414\n",
      "x2            -1.3825      0.400     -3.453      0.001      -2.167      -0.598\n",
      "x3            -1.2121      0.710     -1.707      0.088      -2.604       0.180\n",
      "x4             0.9028      0.798      1.131      0.258      -0.662       2.467\n",
      "x5            -0.6337      0.834     -0.760      0.447      -2.268       1.000\n",
      "x6            -1.7179      1.222     -1.406      0.160      -4.113       0.677\n",
      "x7            -0.3981      0.486     -0.818      0.413      -1.352       0.555\n",
      "x8            -1.7104      1.601     -1.068      0.285      -4.849       1.428\n",
      "x9            -0.1970      1.533     -0.128      0.898      -3.202       2.808\n",
      "==============================================================================\n",
      "\n",
      "Possibly complete quasi-separation: A fraction 0.16 of observations can be\n",
      "perfectly predicted. This might indicate that there is complete\n",
      "quasi-separation. In this case some parameters will not be identified.\n"
     ]
    },
    {
     "name": "stderr",
     "output_type": "stream",
     "text": [
      "/usr/local/lib/python3.6/dist-packages/statsmodels/discrete/discrete_model.py:2405: DeprecationWarning: `chisqprob` is deprecated!\n",
      "stats.chisqprob is deprecated in scipy 0.17.0; use stats.distributions.chi2.sf instead.\n",
      "  return stats.chisqprob(self.llr, self.df_model)\n",
      "/usr/local/lib/python3.6/dist-packages/statsmodels/discrete/discrete_model.py:2405: DeprecationWarning: `chisqprob` is deprecated!\n",
      "stats.chisqprob is deprecated in scipy 0.17.0; use stats.distributions.chi2.sf instead.\n",
      "  return stats.chisqprob(self.llr, self.df_model)\n",
      "/usr/local/lib/python3.6/dist-packages/statsmodels/discrete/discrete_model.py:2405: DeprecationWarning: `chisqprob` is deprecated!\n",
      "stats.chisqprob is deprecated in scipy 0.17.0; use stats.distributions.chi2.sf instead.\n",
      "  return stats.chisqprob(self.llr, self.df_model)\n",
      "/usr/local/lib/python3.6/dist-packages/statsmodels/discrete/discrete_model.py:2405: DeprecationWarning: `chisqprob` is deprecated!\n",
      "stats.chisqprob is deprecated in scipy 0.17.0; use stats.distributions.chi2.sf instead.\n",
      "  return stats.chisqprob(self.llr, self.df_model)\n",
      "/usr/local/lib/python3.6/dist-packages/statsmodels/discrete/discrete_model.py:2405: DeprecationWarning: `chisqprob` is deprecated!\n",
      "stats.chisqprob is deprecated in scipy 0.17.0; use stats.distributions.chi2.sf instead.\n",
      "  return stats.chisqprob(self.llr, self.df_model)\n",
      "/usr/local/lib/python3.6/dist-packages/statsmodels/discrete/discrete_model.py:2405: DeprecationWarning: `chisqprob` is deprecated!\n",
      "stats.chisqprob is deprecated in scipy 0.17.0; use stats.distributions.chi2.sf instead.\n",
      "  return stats.chisqprob(self.llr, self.df_model)\n",
      "/usr/local/lib/python3.6/dist-packages/statsmodels/discrete/discrete_model.py:2405: DeprecationWarning: `chisqprob` is deprecated!\n",
      "stats.chisqprob is deprecated in scipy 0.17.0; use stats.distributions.chi2.sf instead.\n",
      "  return stats.chisqprob(self.llr, self.df_model)\n",
      "/usr/local/lib/python3.6/dist-packages/statsmodels/discrete/discrete_model.py:2405: DeprecationWarning: `chisqprob` is deprecated!\n",
      "stats.chisqprob is deprecated in scipy 0.17.0; use stats.distributions.chi2.sf instead.\n",
      "  return stats.chisqprob(self.llr, self.df_model)\n"
     ]
    }
   ],
   "source": [
    "# The deconfounder with causes added one-by-one\n",
    "# The first i coefficient is the causal coefficient of the first i causes.\n",
    "# i = 1, ..., 8.\n",
    "for i in range(X.shape[1]):\n",
    "    print(i, \"causes included\")\n",
    "    # augment the regressors to be both the assigned causes X and the substitute confounder Z\n",
    "    X_aug = np.column_stack([X[:,:i], Z_hat])\n",
    "    # holdout some data from prediction later\n",
    "    X_train, X_test, y_train, y_test = train_test_split(X_aug, dfy, test_size=0.2, random_state=0)\n",
    "    dcfX_train = sm.add_constant(X_train)\n",
    "    dcflogit_model = sm.Logit(y_train, dcfX_train)\n",
    "    dcfresult = dcflogit_model.fit_regularized(maxiter=5000)\n",
    "    print(dcfresult.summary())    "
   ]
  },
  {
   "cell_type": "code",
   "execution_count": 0,
   "metadata": {
    "colab": {
     "base_uri": "https://localhost:8080/",
     "height": 3981
    },
    "colab_type": "code",
    "id": "tYjfPtOW_zmc",
    "outputId": "7ada168c-603d-4043-846f-6bf1be31c87d"
   },
   "outputs": [
    {
     "name": "stdout",
     "output_type": "stream",
     "text": [
      "0 causes included\n",
      "Optimization terminated successfully.    (Exit mode 0)\n",
      "            Current function value: 0.6549205599225008\n",
      "            Iterations: 6\n",
      "            Function evaluations: 6\n",
      "            Gradient evaluations: 6\n",
      "                           Logit Regression Results                           \n",
      "==============================================================================\n",
      "Dep. Variable:                      y   No. Observations:                  455\n",
      "Model:                          Logit   Df Residuals:                      454\n",
      "Method:                           MLE   Df Model:                            0\n",
      "Date:                Wed, 26 Sep 2018   Pseudo R-squ.:              -6.217e-15\n",
      "Time:                        03:50:48   Log-Likelihood:                -297.99\n",
      "converged:                       True   LL-Null:                       -297.99\n",
      "                                        LLR p-value:                       nan\n",
      "==============================================================================\n",
      "                 coef    std err          z      P>|z|      [0.025      0.975]\n",
      "------------------------------------------------------------------------------\n",
      "const          0.5639      0.098      5.783      0.000       0.373       0.755\n",
      "==============================================================================\n",
      "1 causes included\n",
      "Optimization terminated successfully.    (Exit mode 0)\n",
      "            Current function value: 0.2953829271568602\n",
      "            Iterations: 15\n",
      "            Function evaluations: 15\n",
      "            Gradient evaluations: 15\n",
      "                           Logit Regression Results                           \n",
      "==============================================================================\n",
      "Dep. Variable:                      y   No. Observations:                  455\n",
      "Model:                          Logit   Df Residuals:                      453\n",
      "Method:                           MLE   Df Model:                            1\n",
      "Date:                Wed, 26 Sep 2018   Pseudo R-squ.:                  0.5490\n",
      "Time:                        03:50:48   Log-Likelihood:                -134.40\n",
      "converged:                       True   LL-Null:                       -297.99\n",
      "                                        LLR p-value:                 3.955e-73\n",
      "==============================================================================\n",
      "                 coef    std err          z      P>|z|      [0.025      0.975]\n",
      "------------------------------------------------------------------------------\n",
      "const          0.6566      0.155      4.225      0.000       0.352       0.961\n",
      "x1            -3.5061      0.353     -9.934      0.000      -4.198      -2.814\n",
      "==============================================================================\n",
      "2 causes included\n",
      "Optimization terminated successfully.    (Exit mode 0)\n",
      "            Current function value: 0.2592096971350075\n",
      "            Iterations: 20\n",
      "            Function evaluations: 20\n",
      "            Gradient evaluations: 20\n",
      "                           Logit Regression Results                           \n",
      "==============================================================================\n",
      "Dep. Variable:                      y   No. Observations:                  455\n",
      "Model:                          Logit   Df Residuals:                      452\n",
      "Method:                           MLE   Df Model:                            2\n",
      "Date:                Wed, 26 Sep 2018   Pseudo R-squ.:                  0.6042\n",
      "Time:                        03:50:48   Log-Likelihood:                -117.94\n",
      "converged:                       True   LL-Null:                       -297.99\n",
      "                                        LLR p-value:                 6.397e-79\n",
      "==============================================================================\n",
      "                 coef    std err          z      P>|z|      [0.025      0.975]\n",
      "------------------------------------------------------------------------------\n",
      "const          0.6744      0.168      4.018      0.000       0.345       1.003\n",
      "x1            -3.6479      0.390     -9.347      0.000      -4.413      -2.883\n",
      "x2            -0.9815      0.181     -5.424      0.000      -1.336      -0.627\n",
      "==============================================================================\n",
      "3 causes included\n",
      "Optimization terminated successfully.    (Exit mode 0)\n",
      "            Current function value: 0.162465976738943\n",
      "            Iterations: 28\n",
      "            Function evaluations: 29\n",
      "            Gradient evaluations: 28\n",
      "                           Logit Regression Results                           \n",
      "==============================================================================\n",
      "Dep. Variable:                      y   No. Observations:                  455\n",
      "Model:                          Logit   Df Residuals:                      451\n",
      "Method:                           MLE   Df Model:                            3\n",
      "Date:                Wed, 26 Sep 2018   Pseudo R-squ.:                  0.7519\n",
      "Time:                        03:50:48   Log-Likelihood:                -73.922\n",
      "converged:                       True   LL-Null:                       -297.99\n",
      "                                        LLR p-value:                 8.272e-97\n",
      "==============================================================================\n",
      "                 coef    std err          z      P>|z|      [0.025      0.975]\n",
      "------------------------------------------------------------------------------\n",
      "const          0.9963      0.231      4.306      0.000       0.543       1.450\n",
      "x1            -4.9102      0.601     -8.170      0.000      -6.088      -3.732\n",
      "x2            -1.7394      0.284     -6.115      0.000      -2.297      -1.182\n",
      "x3            -2.2080      0.336     -6.578      0.000      -2.866      -1.550\n",
      "==============================================================================\n",
      "\n",
      "Possibly complete quasi-separation: A fraction 0.12 of observations can be\n",
      "perfectly predicted. This might indicate that there is complete\n",
      "quasi-separation. In this case some parameters will not be identified.\n",
      "4 causes included\n",
      "Optimization terminated successfully.    (Exit mode 0)\n",
      "            Current function value: 0.15485253636195323\n",
      "            Iterations: 35\n",
      "            Function evaluations: 35\n",
      "            Gradient evaluations: 35\n",
      "                           Logit Regression Results                           \n",
      "==============================================================================\n",
      "Dep. Variable:                      y   No. Observations:                  455\n",
      "Model:                          Logit   Df Residuals:                      450\n",
      "Method:                           MLE   Df Model:                            4\n",
      "Date:                Wed, 26 Sep 2018   Pseudo R-squ.:                  0.7636\n",
      "Time:                        03:50:48   Log-Likelihood:                -70.458\n",
      "converged:                       True   LL-Null:                       -297.99\n",
      "                                        LLR p-value:                 3.495e-97\n",
      "==============================================================================\n",
      "                 coef    std err          z      P>|z|      [0.025      0.975]\n",
      "------------------------------------------------------------------------------\n",
      "const          0.9646      0.233      4.146      0.000       0.509       1.421\n",
      "x1            -4.6125      0.614     -7.509      0.000      -5.816      -3.409\n",
      "x2            -1.6563      0.295     -5.610      0.000      -2.235      -1.078\n",
      "x3            -1.7342      0.372     -4.667      0.000      -2.463      -1.006\n",
      "x4            -0.9279      0.353     -2.631      0.009      -1.619      -0.237\n",
      "==============================================================================\n",
      "\n",
      "Possibly complete quasi-separation: A fraction 0.13 of observations can be\n",
      "perfectly predicted. This might indicate that there is complete\n",
      "quasi-separation. In this case some parameters will not be identified.\n",
      "5 causes included\n",
      "Optimization terminated successfully.    (Exit mode 0)\n",
      "            Current function value: 0.14242454080229494\n",
      "            Iterations: 44\n",
      "            Function evaluations: 45\n",
      "            Gradient evaluations: 44\n",
      "                           Logit Regression Results                           \n",
      "==============================================================================\n",
      "Dep. Variable:                      y   No. Observations:                  455\n",
      "Model:                          Logit   Df Residuals:                      449\n",
      "Method:                           MLE   Df Model:                            5\n",
      "Date:                Wed, 26 Sep 2018   Pseudo R-squ.:                  0.7825\n",
      "Time:                        03:50:48   Log-Likelihood:                -64.803\n",
      "converged:                       True   LL-Null:                       -297.99\n",
      "                                        LLR p-value:                 1.444e-98\n",
      "==============================================================================\n",
      "                 coef    std err          z      P>|z|      [0.025      0.975]\n",
      "------------------------------------------------------------------------------\n",
      "const          0.8234      0.242      3.396      0.001       0.348       1.299\n",
      "x1            -4.6125      0.636     -7.252      0.000      -5.859      -3.366\n",
      "x2            -1.7131      0.303     -5.648      0.000      -2.308      -1.119\n",
      "x3            -1.9515      0.395     -4.941      0.000      -2.726      -1.177\n",
      "x4             0.4077      0.512      0.797      0.425      -0.595       1.410\n",
      "x5            -1.7514      0.464     -3.777      0.000      -2.660      -0.843\n",
      "==============================================================================\n",
      "\n",
      "Possibly complete quasi-separation: A fraction 0.16 of observations can be\n",
      "perfectly predicted. This might indicate that there is complete\n",
      "quasi-separation. In this case some parameters will not be identified.\n",
      "6 causes included\n",
      "Optimization terminated successfully.    (Exit mode 0)\n",
      "            Current function value: 0.13837349335376822\n",
      "            Iterations: 60\n",
      "            Function evaluations: 60\n",
      "            Gradient evaluations: 60\n",
      "                           Logit Regression Results                           \n",
      "==============================================================================\n",
      "Dep. Variable:                      y   No. Observations:                  455\n",
      "Model:                          Logit   Df Residuals:                      448\n",
      "Method:                           MLE   Df Model:                            6\n",
      "Date:                Wed, 26 Sep 2018   Pseudo R-squ.:                  0.7887\n",
      "Time:                        03:50:48   Log-Likelihood:                -62.960\n",
      "converged:                       True   LL-Null:                       -297.99\n",
      "                                        LLR p-value:                 2.361e-98\n",
      "==============================================================================\n",
      "                 coef    std err          z      P>|z|      [0.025      0.975]\n",
      "------------------------------------------------------------------------------\n",
      "const          0.7376      0.248      2.975      0.003       0.252       1.223\n",
      "x1            -3.5398      0.807     -4.384      0.000      -5.122      -1.957\n",
      "x2            -1.6821      0.302     -5.563      0.000      -2.275      -1.089\n",
      "x3            -1.3522      0.491     -2.756      0.006      -2.314      -0.391\n",
      "x4             0.6207      0.527      1.177      0.239      -0.413       1.655\n",
      "x5            -1.0073      0.623     -1.617      0.106      -2.228       0.214\n",
      "x6            -2.1317      1.138     -1.873      0.061      -4.362       0.098\n",
      "==============================================================================\n",
      "\n",
      "Possibly complete quasi-separation: A fraction 0.14 of observations can be\n",
      "perfectly predicted. This might indicate that there is complete\n",
      "quasi-separation. In this case some parameters will not be identified.\n",
      "7 causes included\n",
      "Optimization terminated successfully.    (Exit mode 0)\n",
      "            Current function value: 0.135339334890979\n",
      "            Iterations: 62\n",
      "            Function evaluations: 62\n",
      "            Gradient evaluations: 62\n",
      "                           Logit Regression Results                           \n",
      "==============================================================================\n",
      "Dep. Variable:                      y   No. Observations:                  455\n",
      "Model:                          Logit   Df Residuals:                      447\n",
      "Method:                           MLE   Df Model:                            7\n",
      "Date:                Wed, 26 Sep 2018   Pseudo R-squ.:                  0.7933\n",
      "Time:                        03:50:48   Log-Likelihood:                -61.579\n",
      "converged:                       True   LL-Null:                       -297.99\n",
      "                                        LLR p-value:                 5.570e-98\n",
      "==============================================================================\n",
      "                 coef    std err          z      P>|z|      [0.025      0.975]\n",
      "------------------------------------------------------------------------------\n",
      "const          0.7287      0.250      2.916      0.004       0.239       1.219\n",
      "x1            -3.6556      0.796     -4.592      0.000      -5.216      -2.095\n",
      "x2            -1.7323      0.307     -5.644      0.000      -2.334      -1.131\n",
      "x3            -1.1122      0.483     -2.304      0.021      -2.058      -0.166\n",
      "x4             0.7408      0.542      1.367      0.172      -0.321       1.803\n",
      "x5            -0.8364      0.614     -1.363      0.173      -2.039       0.366\n",
      "x6            -2.2682      1.139     -1.992      0.046      -4.500      -0.037\n",
      "x7            -0.5397      0.324     -1.666      0.096      -1.175       0.095\n",
      "==============================================================================\n",
      "\n",
      "Possibly complete quasi-separation: A fraction 0.15 of observations can be\n",
      "perfectly predicted. This might indicate that there is complete\n",
      "quasi-separation. In this case some parameters will not be identified.\n"
     ]
    },
    {
     "name": "stderr",
     "output_type": "stream",
     "text": [
      "/usr/local/lib/python3.6/dist-packages/statsmodels/discrete/discrete_model.py:2405: DeprecationWarning: `chisqprob` is deprecated!\n",
      "stats.chisqprob is deprecated in scipy 0.17.0; use stats.distributions.chi2.sf instead.\n",
      "  return stats.chisqprob(self.llr, self.df_model)\n",
      "/usr/local/lib/python3.6/dist-packages/statsmodels/discrete/discrete_model.py:2405: DeprecationWarning: `chisqprob` is deprecated!\n",
      "stats.chisqprob is deprecated in scipy 0.17.0; use stats.distributions.chi2.sf instead.\n",
      "  return stats.chisqprob(self.llr, self.df_model)\n",
      "/usr/local/lib/python3.6/dist-packages/statsmodels/discrete/discrete_model.py:2405: DeprecationWarning: `chisqprob` is deprecated!\n",
      "stats.chisqprob is deprecated in scipy 0.17.0; use stats.distributions.chi2.sf instead.\n",
      "  return stats.chisqprob(self.llr, self.df_model)\n",
      "/usr/local/lib/python3.6/dist-packages/statsmodels/discrete/discrete_model.py:2405: DeprecationWarning: `chisqprob` is deprecated!\n",
      "stats.chisqprob is deprecated in scipy 0.17.0; use stats.distributions.chi2.sf instead.\n",
      "  return stats.chisqprob(self.llr, self.df_model)\n",
      "/usr/local/lib/python3.6/dist-packages/statsmodels/discrete/discrete_model.py:2405: DeprecationWarning: `chisqprob` is deprecated!\n",
      "stats.chisqprob is deprecated in scipy 0.17.0; use stats.distributions.chi2.sf instead.\n",
      "  return stats.chisqprob(self.llr, self.df_model)\n",
      "/usr/local/lib/python3.6/dist-packages/statsmodels/discrete/discrete_model.py:2405: DeprecationWarning: `chisqprob` is deprecated!\n",
      "stats.chisqprob is deprecated in scipy 0.17.0; use stats.distributions.chi2.sf instead.\n",
      "  return stats.chisqprob(self.llr, self.df_model)\n",
      "/usr/local/lib/python3.6/dist-packages/statsmodels/discrete/discrete_model.py:2405: DeprecationWarning: `chisqprob` is deprecated!\n",
      "stats.chisqprob is deprecated in scipy 0.17.0; use stats.distributions.chi2.sf instead.\n",
      "  return stats.chisqprob(self.llr, self.df_model)\n",
      "/usr/local/lib/python3.6/dist-packages/statsmodels/discrete/discrete_model.py:2405: DeprecationWarning: `chisqprob` is deprecated!\n",
      "stats.chisqprob is deprecated in scipy 0.17.0; use stats.distributions.chi2.sf instead.\n",
      "  return stats.chisqprob(self.llr, self.df_model)\n"
     ]
    }
   ],
   "source": [
    "# Logistic regression with causes added one-by-one\n",
    "# The first i coefficient is the causal coefficient of the first i causes.\n",
    "# i = 1, ..., 8.\n",
    "for i in range(X.shape[1]):\n",
    "    print(i, \"causes included\")\n",
    "    # augment the regressors to be both the assigned causes X and the substitute confounder Z\n",
    "    X_aug = np.column_stack([X[:,:i]])\n",
    "    # holdout some data from prediction later\n",
    "    X_train, X_test, y_train, y_test = train_test_split(X_aug, dfy, test_size=0.2, random_state=0)\n",
    "    dcfX_train = sm.add_constant(X_train)\n",
    "    dcflogit_model = sm.Logit(y_train, dcfX_train)\n",
    "    dcfresult = dcflogit_model.fit_regularized(maxiter=5000)\n",
    "    print(dcfresult.summary())    "
   ]
  },
  {
   "cell_type": "markdown",
   "metadata": {
    "colab_type": "text",
    "id": "LriJGU_rAYx9"
   },
   "source": [
    "**We note that the causal coefficient of x4 is stable with the (causal) deconfounder but the correlation coefficent of x4 flips sign with the (noncausal) logistic regression.**"
   ]
  },
  {
   "cell_type": "markdown",
   "metadata": {
    "colab_type": "text",
    "id": "mDTQQ07H-jqL"
   },
   "source": [
    "# Takeaways"
   ]
  },
  {
   "cell_type": "markdown",
   "metadata": {
    "colab_type": "text",
    "id": "E_fKgGXKinvp"
   },
   "source": [
    "\n",
    "\n",
    "*   The deconfounder is **not hard** to use.\n",
    "*   We simply **fit** a factor model, **check** it, and **infer** causal effects with the substitute confounder.\n",
    "*   Please **always check** the factor model! \n",
    "*   The deconfounder **makes a difference**.\n",
    "*   The deconfounder **deconfounds**.\n",
    "\n"
   ]
  },
  {
   "cell_type": "markdown",
   "metadata": {
    "colab_type": "text",
    "id": "JgWF4gDkA1S4"
   },
   "source": [
    "# Acknowledgements"
   ]
  },
  {
   "cell_type": "markdown",
   "metadata": {
    "colab_type": "text",
    "id": "6NTee1r9A4Lm"
   },
   "source": [
    "We thank Suresh Naidu for suggesting the adding-causes-one-by-one idea."
   ]
  }
 ],
 "metadata": {
  "colab": {
   "collapsed_sections": [],
   "name": "deconfounder_tutorial.ipynb",
   "provenance": [],
   "toc_visible": true,
   "version": "0.3.2"
  },
  "kernelspec": {
   "display_name": "Python 3",
   "language": "python",
   "name": "python3"
  },
  "language_info": {
   "codemirror_mode": {
    "name": "ipython",
    "version": 3
   },
   "file_extension": ".py",
   "mimetype": "text/x-python",
   "name": "python",
   "nbconvert_exporter": "python",
   "pygments_lexer": "ipython3",
   "version": "3.6.4"
  }
 },
 "nbformat": 4,
 "nbformat_minor": 1
}
