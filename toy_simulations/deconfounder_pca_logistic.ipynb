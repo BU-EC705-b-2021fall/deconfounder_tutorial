{
 "cells": [
  {
   "cell_type": "markdown",
   "metadata": {},
   "source": [
    "# The deconfounder: a PCA factor model + a logistic outcome model"
   ]
  },
  {
   "cell_type": "code",
   "execution_count": 1,
   "metadata": {},
   "outputs": [
    {
     "name": "stderr",
     "output_type": "stream",
     "text": [
      "/Users/yixinwang/py3/lib/python3.6/site-packages/statsmodels/compat/pandas.py:56: FutureWarning: The pandas.core.datetools module is deprecated and will be removed in a future version. Please use the pandas.tseries module instead.\n",
      "  from pandas.core import datetools\n"
     ]
    }
   ],
   "source": [
    "import numpy.random as npr\n",
    "import statsmodels.api as sm \n",
    "import scipy \n",
    "import numpy as np\n",
    "\n",
    "from sklearn import linear_model\n",
    "from sklearn.decomposition import PCA\n",
    "from sklearn.datasets import make_spd_matrix\n",
    "from scipy import stats\n",
    "\n",
    "stats.chisqprob = lambda chisq, df: stats.chi2.sf(chisq, df)\n"
   ]
  },
  {
   "cell_type": "code",
   "execution_count": 2,
   "metadata": {},
   "outputs": [],
   "source": [
    "# import time\n",
    "# timenowseed = int(time.time())\n",
    "# npr.seed(timenowseed)\n",
    "# print(timenowseed)\n",
    "npr.seed(1534727263)"
   ]
  },
  {
   "cell_type": "code",
   "execution_count": 3,
   "metadata": {},
   "outputs": [],
   "source": [
    "n = 10000 # number of data points\n",
    "d = 3 # number of causes (=2) + number of confounders (=1)"
   ]
  },
  {
   "cell_type": "markdown",
   "metadata": {},
   "source": [
    "# A simulated dataset"
   ]
  },
  {
   "cell_type": "markdown",
   "metadata": {},
   "source": [
    "## simulate correlated causes"
   ]
  },
  {
   "cell_type": "code",
   "execution_count": 4,
   "metadata": {},
   "outputs": [
    {
     "name": "stdout",
     "output_type": "stream",
     "text": [
      "correlation \n",
      " [[1.  0.4 0.4]\n",
      " [0.4 1.  0.4]\n",
      " [0.4 0.4 1. ]]\n",
      "covariance \n",
      " [[1.  0.4 0.4]\n",
      " [0.4 1.  0.4]\n",
      " [0.4 0.4 1. ]]\n"
     ]
    }
   ],
   "source": [
    "corrcoef = 0.4\n",
    "stdev = np.ones(d)\n",
    "corr = np.eye(d) * (1-corrcoef) + np.ones([d,d]) * corrcoef\n",
    "print(\"correlation \\n\", corr)\n",
    "b = np.matmul(stdev[:,np.newaxis], stdev[:,np.newaxis].T)\n",
    "cov = np.multiply(b, corr)\n",
    "mean = np.zeros(d)\n",
    "# cov = make_spd_matrix(3)\n",
    "print(\"covariance \\n\", cov)\n",
    "X = npr.multivariate_normal(mean, cov, n)"
   ]
  },
  {
   "cell_type": "markdown",
   "metadata": {},
   "source": [
    "## simulate the outcome"
   ]
  },
  {
   "cell_type": "code",
   "execution_count": 5,
   "metadata": {},
   "outputs": [],
   "source": [
    "coef = np.array([0.2, 1.0, 0.9])\n",
    "assert len(coef) == d\n",
    "intcpt = 0.4"
   ]
  },
  {
   "cell_type": "code",
   "execution_count": 6,
   "metadata": {},
   "outputs": [],
   "source": [
    "y = npr.binomial(1, np.exp(intcpt+coef.dot(X.T))/(1+np.exp(intcpt+coef.dot(X.T))))"
   ]
  },
  {
   "cell_type": "markdown",
   "metadata": {},
   "source": [
    "# noncausal estimation: classical logistic regression"
   ]
  },
  {
   "cell_type": "code",
   "execution_count": 7,
   "metadata": {},
   "outputs": [],
   "source": [
    "obs_n = d - 1"
   ]
  },
  {
   "cell_type": "code",
   "execution_count": 8,
   "metadata": {},
   "outputs": [],
   "source": [
    "obs_X = X[:,:obs_n]"
   ]
  },
  {
   "cell_type": "code",
   "execution_count": 9,
   "metadata": {},
   "outputs": [
    {
     "name": "stdout",
     "output_type": "stream",
     "text": [
      "Optimization terminated successfully.\n",
      "         Current function value: 0.540806\n",
      "         Iterations 6\n",
      "                           Logit Regression Results                           \n",
      "==============================================================================\n",
      "Dep. Variable:                      y   No. Observations:                10000\n",
      "Model:                          Logit   Df Residuals:                     9997\n",
      "Method:                           MLE   Df Model:                            2\n",
      "Date:                Thu, 20 Sep 2018   Pseudo R-squ.:                  0.2107\n",
      "Time:                        01:54:58   Log-Likelihood:                -5408.1\n",
      "converged:                       True   LL-Null:                       -6851.6\n",
      "                                        LLR p-value:                     0.000\n",
      "==============================================================================\n",
      "                 coef    std err          z      P>|z|      [0.025      0.975]\n",
      "------------------------------------------------------------------------------\n",
      "const          0.3640      0.024     15.325      0.000       0.317       0.411\n",
      "x1             0.4353      0.027     16.407      0.000       0.383       0.487\n",
      "x2             1.1362      0.031     36.899      0.000       1.076       1.197\n",
      "==============================================================================\n"
     ]
    }
   ],
   "source": [
    "#ignore confounder\n",
    "x2 = sm.add_constant(obs_X)\n",
    "models = sm.Logit(y,x2)\n",
    "result = models.fit()\n",
    "print(result.summary())"
   ]
  },
  {
   "cell_type": "markdown",
   "metadata": {},
   "source": [
    "*   The true causal coefficient is (0.2, 1.0). \n",
    "*   But with the classical logistic regression, none of the confidence intervals include the truth."
   ]
  },
  {
   "cell_type": "markdown",
   "metadata": {},
   "source": [
    "# causal inference: the deconfounder with a PCA factor model"
   ]
  },
  {
   "cell_type": "markdown",
   "metadata": {},
   "source": [
    "## fit a PCA"
   ]
  },
  {
   "cell_type": "code",
   "execution_count": 10,
   "metadata": {},
   "outputs": [],
   "source": [
    "n_comp = 1\n",
    "eps = 0.1"
   ]
  },
  {
   "cell_type": "code",
   "execution_count": 11,
   "metadata": {},
   "outputs": [
    {
     "data": {
      "text/plain": [
       "PCA(copy=True, iterated_power='auto', n_components=1, random_state=None,\n",
       "  svd_solver='auto', tol=0.0, whiten=False)"
      ]
     },
     "execution_count": 11,
     "metadata": {},
     "output_type": "execute_result"
    }
   ],
   "source": [
    "pca = PCA(n_components=n_comp)\n",
    "pca.fit(obs_X)"
   ]
  },
  {
   "cell_type": "code",
   "execution_count": 12,
   "metadata": {},
   "outputs": [
    {
     "data": {
      "text/plain": [
       "array([[-0.7122818 , -0.70189361]])"
      ]
     },
     "execution_count": 12,
     "metadata": {},
     "output_type": "execute_result"
    }
   ],
   "source": [
    "pca.components_"
   ]
  },
  {
   "cell_type": "code",
   "execution_count": 13,
   "metadata": {},
   "outputs": [
    {
     "name": "stdout",
     "output_type": "stream",
     "text": [
      "[0.70374746]\n"
     ]
    }
   ],
   "source": [
    "print(pca.explained_variance_ratio_)  "
   ]
  },
  {
   "cell_type": "markdown",
   "metadata": {},
   "source": [
    "## compute the substitute confounder Z and the reconstructed causes A"
   ]
  },
  {
   "cell_type": "code",
   "execution_count": 14,
   "metadata": {},
   "outputs": [],
   "source": [
    "Z = obs_X.dot(pca.components_.T) + npr.normal(scale=eps,size=(n,1))"
   ]
  },
  {
   "cell_type": "code",
   "execution_count": 15,
   "metadata": {},
   "outputs": [],
   "source": [
    "A = np.dot(pca.transform(obs_X)[:,:n_comp], pca.components_[:n_comp,:]) + npr.normal(scale=eps,size=(n,obs_n))"
   ]
  },
  {
   "cell_type": "code",
   "execution_count": 16,
   "metadata": {},
   "outputs": [],
   "source": [
    "X_pca_A = np.hstack((obs_X, A))\n",
    "X_pca_Z = np.hstack((obs_X, Z))"
   ]
  },
  {
   "cell_type": "markdown",
   "metadata": {},
   "source": [
    "## causal estimation with the reconstructed causes A"
   ]
  },
  {
   "cell_type": "code",
   "execution_count": 17,
   "metadata": {},
   "outputs": [
    {
     "name": "stdout",
     "output_type": "stream",
     "text": [
      "Optimization terminated successfully.\n",
      "         Current function value: 0.540465\n",
      "         Iterations 6\n",
      "                           Logit Regression Results                           \n",
      "==============================================================================\n",
      "Dep. Variable:                      y   No. Observations:                10000\n",
      "Model:                          Logit   Df Residuals:                     9995\n",
      "Method:                           MLE   Df Model:                            4\n",
      "Date:                Thu, 20 Sep 2018   Pseudo R-squ.:                  0.2112\n",
      "Time:                        01:54:58   Log-Likelihood:                -5404.7\n",
      "converged:                       True   LL-Null:                       -6851.6\n",
      "                                        LLR p-value:                     0.000\n",
      "==============================================================================\n",
      "                 coef    std err          z      P>|z|      [0.025      0.975]\n",
      "------------------------------------------------------------------------------\n",
      "const          0.3572      0.024     14.809      0.000       0.310       0.404\n",
      "x1             0.1832      0.173      1.061      0.288      -0.155       0.521\n",
      "x2             0.8884      0.171      5.199      0.000       0.553       1.223\n",
      "x3             0.6134      0.241      2.550      0.011       0.142       1.085\n",
      "x4            -0.1160      0.234     -0.496      0.620      -0.574       0.342\n",
      "==============================================================================\n"
     ]
    }
   ],
   "source": [
    "x2 = sm.add_constant(X_pca_A)\n",
    "models = sm.Logit(y,x2)\n",
    "result = models.fit()\n",
    "print(result.summary())"
   ]
  },
  {
   "cell_type": "markdown",
   "metadata": {},
   "source": [
    "*   The true causal coefficient is (0.2, 1.0). \n",
    "*   But with the deconfounder, both of the confidence intervals (for x1, x2) include the truth."
   ]
  },
  {
   "cell_type": "markdown",
   "metadata": {},
   "source": [
    "## causal estimation with the substitute confounder Z"
   ]
  },
  {
   "cell_type": "code",
   "execution_count": 18,
   "metadata": {},
   "outputs": [
    {
     "name": "stdout",
     "output_type": "stream",
     "text": [
      "Optimization terminated successfully.\n",
      "         Current function value: 0.540708\n",
      "         Iterations 6\n",
      "                           Logit Regression Results                           \n",
      "==============================================================================\n",
      "Dep. Variable:                      y   No. Observations:                10000\n",
      "Model:                          Logit   Df Residuals:                     9996\n",
      "Method:                           MLE   Df Model:                            3\n",
      "Date:                Thu, 20 Sep 2018   Pseudo R-squ.:                  0.2108\n",
      "Time:                        01:54:58   Log-Likelihood:                -5407.1\n",
      "converged:                       True   LL-Null:                       -6851.6\n",
      "                                        LLR p-value:                     0.000\n",
      "==============================================================================\n",
      "                 coef    std err          z      P>|z|      [0.025      0.975]\n",
      "------------------------------------------------------------------------------\n",
      "const          0.3638      0.024     15.314      0.000       0.317       0.410\n",
      "x1             0.2002      0.170      1.176      0.239      -0.133       0.534\n",
      "x2             0.9060      0.167      5.411      0.000       0.578       1.234\n",
      "x3            -0.3298      0.236     -1.398      0.162      -0.792       0.133\n",
      "==============================================================================\n"
     ]
    }
   ],
   "source": [
    "x2 = sm.add_constant(X_pca_Z)\n",
    "models = sm.Logit(y,x2)\n",
    "result = models.fit()\n",
    "print(result.summary())"
   ]
  },
  {
   "cell_type": "markdown",
   "metadata": {},
   "source": [
    "*   The true causal coefficient is (0.2, 1.0). \n",
    "*   But with the deconfounder, both of the confidence intervals (for x1, x2) include the truth."
   ]
  },
  {
   "cell_type": "markdown",
   "metadata": {},
   "source": [
    "# The oracle case: when the confounder is observed"
   ]
  },
  {
   "cell_type": "code",
   "execution_count": 19,
   "metadata": {},
   "outputs": [
    {
     "name": "stdout",
     "output_type": "stream",
     "text": [
      "Optimization terminated successfully.\n",
      "         Current function value: 0.496111\n",
      "         Iterations 6\n",
      "                           Logit Regression Results                           \n",
      "==============================================================================\n",
      "Dep. Variable:                      y   No. Observations:                10000\n",
      "Model:                          Logit   Df Residuals:                     9996\n",
      "Method:                           MLE   Df Model:                            3\n",
      "Date:                Thu, 20 Sep 2018   Pseudo R-squ.:                  0.2759\n",
      "Time:                        01:54:58   Log-Likelihood:                -4961.1\n",
      "converged:                       True   LL-Null:                       -6851.6\n",
      "                                        LLR p-value:                     0.000\n",
      "==============================================================================\n",
      "                 coef    std err          z      P>|z|      [0.025      0.975]\n",
      "------------------------------------------------------------------------------\n",
      "const          0.4149      0.025     16.480      0.000       0.366       0.464\n",
      "x1             0.2405      0.028      8.474      0.000       0.185       0.296\n",
      "x2             1.0272      0.032     31.862      0.000       0.964       1.090\n",
      "x3             0.8601      0.031     27.771      0.000       0.799       0.921\n",
      "==============================================================================\n"
     ]
    }
   ],
   "source": [
    "# oracle\n",
    "x2 = sm.add_constant(X)\n",
    "models = sm.Logit(y,x2)\n",
    "result = models.fit()\n",
    "print(result.summary())"
   ]
  },
  {
   "cell_type": "markdown",
   "metadata": {},
   "source": [
    "*   The true causal coefficient is (0.2, 1.0). \n",
    "*   When the confounder is observed, both of the confidence intervals (for x1, x2) include the truth.\n",
    "*   The estimate is (expectedly) more efficient than the deconfounder."
   ]
  }
 ],
 "metadata": {
  "kernelspec": {
   "display_name": "Python 3",
   "language": "python",
   "name": "python3"
  },
  "language_info": {
   "codemirror_mode": {
    "name": "ipython",
    "version": 3
   },
   "file_extension": ".py",
   "mimetype": "text/x-python",
   "name": "python",
   "nbconvert_exporter": "python",
   "pygments_lexer": "ipython3",
   "version": "3.6.4"
  }
 },
 "nbformat": 4,
 "nbformat_minor": 2
}
