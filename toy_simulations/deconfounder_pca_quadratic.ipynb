{
 "cells": [
  {
   "cell_type": "markdown",
   "metadata": {},
   "source": [
    "# The deconfounder: a PCA factor model + a quadratic outcome model"
   ]
  },
  {
   "cell_type": "code",
   "execution_count": 1,
   "metadata": {},
   "outputs": [
    {
     "name": "stderr",
     "output_type": "stream",
     "text": [
      "/Users/yixinwang/py3/lib/python3.6/site-packages/statsmodels/compat/pandas.py:56: FutureWarning: The pandas.core.datetools module is deprecated and will be removed in a future version. Please use the pandas.tseries module instead.\n",
      "  from pandas.core import datetools\n"
     ]
    }
   ],
   "source": [
    "import numpy.random as npr\n",
    "import statsmodels.api as sm \n",
    "import scipy \n",
    "import numpy as np\n",
    "\n",
    "from sklearn import linear_model\n",
    "from sklearn.decomposition import PCA\n",
    "from sklearn.datasets import make_spd_matrix\n",
    "from scipy import stats\n",
    "\n",
    "stats.chisqprob = lambda chisq, df: stats.chi2.sf(chisq, df)\n",
    "\n"
   ]
  },
  {
   "cell_type": "code",
   "execution_count": 2,
   "metadata": {},
   "outputs": [
    {
     "name": "stdout",
     "output_type": "stream",
     "text": [
      "1537422919\n"
     ]
    }
   ],
   "source": [
    "import time\n",
    "timenowseed = int(time.time())\n",
    "npr.seed(timenowseed)\n",
    "print(timenowseed)\n",
    "# npr.seed(1534727263)"
   ]
  },
  {
   "cell_type": "code",
   "execution_count": 3,
   "metadata": {},
   "outputs": [],
   "source": [
    "n = 10000\n",
    "d = 3 # number of causes (=2) + number of confounders (=1)"
   ]
  },
  {
   "cell_type": "markdown",
   "metadata": {},
   "source": [
    "# A simulated dataset"
   ]
  },
  {
   "cell_type": "markdown",
   "metadata": {},
   "source": [
    "## simulate correlated causes"
   ]
  },
  {
   "cell_type": "code",
   "execution_count": 4,
   "metadata": {},
   "outputs": [
    {
     "name": "stdout",
     "output_type": "stream",
     "text": [
      "correlation \n",
      " [[1.  0.4 0.4]\n",
      " [0.4 1.  0.4]\n",
      " [0.4 0.4 1. ]]\n",
      "covariance \n",
      " [[1.  0.4 0.4]\n",
      " [0.4 1.  0.4]\n",
      " [0.4 0.4 1. ]]\n"
     ]
    }
   ],
   "source": [
    "corrcoef = 0.4\n",
    "stdev = np.ones(d)\n",
    "corr = np.eye(d) * (1-corrcoef) + np.ones([d,d]) * corrcoef\n",
    "print(\"correlation \\n\", corr)\n",
    "b = np.matmul(stdev[:,np.newaxis], stdev[:,np.newaxis].T)\n",
    "cov = np.multiply(b, corr)\n",
    "mean = np.zeros(d)\n",
    "# cov = make_spd_matrix(3)\n",
    "print(\"covariance \\n\", cov)\n",
    "X = npr.multivariate_normal(mean, cov, n)"
   ]
  },
  {
   "cell_type": "markdown",
   "metadata": {},
   "source": [
    "## simulate the outcome"
   ]
  },
  {
   "cell_type": "code",
   "execution_count": 5,
   "metadata": {},
   "outputs": [],
   "source": [
    "coef = np.array([0.2, 1.0, 0.9])\n",
    "assert len(coef) == d\n",
    "intcpt = 0.4"
   ]
  },
  {
   "cell_type": "code",
   "execution_count": 6,
   "metadata": {},
   "outputs": [],
   "source": [
    "y = intcpt+(coef).dot((X.T)**2)"
   ]
  },
  {
   "cell_type": "markdown",
   "metadata": {},
   "source": [
    "# noncausal estimation: quadratic regression"
   ]
  },
  {
   "cell_type": "code",
   "execution_count": 7,
   "metadata": {},
   "outputs": [],
   "source": [
    "obs_n = d - 1"
   ]
  },
  {
   "cell_type": "code",
   "execution_count": 8,
   "metadata": {},
   "outputs": [],
   "source": [
    "obs_X = X[:,:obs_n]"
   ]
  },
  {
   "cell_type": "code",
   "execution_count": 9,
   "metadata": {},
   "outputs": [
    {
     "name": "stdout",
     "output_type": "stream",
     "text": [
      "                            OLS Regression Results                            \n",
      "==============================================================================\n",
      "Dep. Variable:                      y   R-squared:                       0.676\n",
      "Model:                            OLS   Adj. R-squared:                  0.676\n",
      "Method:                 Least Squares   F-statistic:                 1.041e+04\n",
      "Date:                Thu, 20 Sep 2018   Prob (F-statistic):               0.00\n",
      "Time:                        01:55:19   Log-Likelihood:                -16265.\n",
      "No. Observations:               10000   AIC:                         3.254e+04\n",
      "Df Residuals:                    9997   BIC:                         3.256e+04\n",
      "Df Model:                           2                                         \n",
      "Covariance Type:            nonrobust                                         \n",
      "==============================================================================\n",
      "                 coef    std err          t      P>|t|      [0.025      0.975]\n",
      "------------------------------------------------------------------------------\n",
      "const          1.0609      0.017     63.561      0.000       1.028       1.094\n",
      "x1             0.3240      0.009     37.032      0.000       0.307       0.341\n",
      "x2             1.1175      0.009    131.281      0.000       1.101       1.134\n",
      "==============================================================================\n",
      "Omnibus:                     5229.399   Durbin-Watson:                   1.998\n",
      "Prob(Omnibus):                  0.000   Jarque-Bera (JB):            38999.883\n",
      "Skew:                           2.433   Prob(JB):                         0.00\n",
      "Kurtosis:                      11.362   Cond. No.                         3.20\n",
      "==============================================================================\n",
      "\n",
      "Warnings:\n",
      "[1] Standard Errors assume that the covariance matrix of the errors is correctly specified.\n"
     ]
    }
   ],
   "source": [
    "#ignore confounder\n",
    "all_X = np.column_stack([obs_X**2])\n",
    "x2 = sm.add_constant(all_X)\n",
    "models = sm.OLS(y,x2)\n",
    "result = models.fit()\n",
    "print(result.summary())"
   ]
  },
  {
   "cell_type": "markdown",
   "metadata": {},
   "source": [
    "*   The true causal coefficient is (0.2, 1.0). \n",
    "*   But with the quadratic regression, none of the confidence intervals include the truth."
   ]
  },
  {
   "cell_type": "markdown",
   "metadata": {},
   "source": [
    "# causal inference: the deconfounder with a PCA factor model"
   ]
  },
  {
   "cell_type": "markdown",
   "metadata": {},
   "source": [
    "## fit a PCA"
   ]
  },
  {
   "cell_type": "code",
   "execution_count": 10,
   "metadata": {},
   "outputs": [],
   "source": [
    "n_comp = 1\n",
    "eps = 0.0"
   ]
  },
  {
   "cell_type": "code",
   "execution_count": 11,
   "metadata": {},
   "outputs": [
    {
     "data": {
      "text/plain": [
       "PCA(copy=True, iterated_power='auto', n_components=1, random_state=None,\n",
       "  svd_solver='auto', tol=0.0, whiten=False)"
      ]
     },
     "execution_count": 11,
     "metadata": {},
     "output_type": "execute_result"
    }
   ],
   "source": [
    "pca = PCA(n_components=n_comp)\n",
    "pca.fit(obs_X)"
   ]
  },
  {
   "cell_type": "code",
   "execution_count": 12,
   "metadata": {},
   "outputs": [
    {
     "data": {
      "text/plain": [
       "array([[0.69988077, 0.71425969]])"
      ]
     },
     "execution_count": 12,
     "metadata": {},
     "output_type": "execute_result"
    }
   ],
   "source": [
    "pca.components_"
   ]
  },
  {
   "cell_type": "code",
   "execution_count": 13,
   "metadata": {},
   "outputs": [
    {
     "name": "stdout",
     "output_type": "stream",
     "text": [
      "[0.7047965]\n"
     ]
    }
   ],
   "source": [
    "print(pca.explained_variance_ratio_)  "
   ]
  },
  {
   "cell_type": "markdown",
   "metadata": {},
   "source": [
    "## compute the substitute confounder Z and the reconstructed causes A"
   ]
  },
  {
   "cell_type": "code",
   "execution_count": 14,
   "metadata": {},
   "outputs": [],
   "source": [
    "Z = obs_X.dot(pca.components_.T) + npr.normal(scale=eps,size=(n,1))"
   ]
  },
  {
   "cell_type": "code",
   "execution_count": 15,
   "metadata": {},
   "outputs": [],
   "source": [
    "A = np.dot(pca.transform(obs_X)[:,:n_comp], pca.components_[:n_comp,:]) + npr.normal(scale=eps,size=(n,obs_n))"
   ]
  },
  {
   "cell_type": "code",
   "execution_count": 16,
   "metadata": {},
   "outputs": [],
   "source": [
    "X_pca_A = np.hstack((obs_X, A))\n",
    "X_pca_Z = np.hstack((obs_X, Z))"
   ]
  },
  {
   "cell_type": "markdown",
   "metadata": {},
   "source": [
    "## causal estimation with the reconstructed causes A"
   ]
  },
  {
   "cell_type": "code",
   "execution_count": 17,
   "metadata": {},
   "outputs": [
    {
     "name": "stdout",
     "output_type": "stream",
     "text": [
      "                            OLS Regression Results                            \n",
      "==============================================================================\n",
      "Dep. Variable:                      y   R-squared:                       0.677\n",
      "Model:                            OLS   Adj. R-squared:                  0.677\n",
      "Method:                 Least Squares   F-statistic:                     6989.\n",
      "Date:                Thu, 20 Sep 2018   Prob (F-statistic):               0.00\n",
      "Time:                        01:55:19   Log-Likelihood:                -16241.\n",
      "No. Observations:               10000   AIC:                         3.249e+04\n",
      "Df Residuals:                    9996   BIC:                         3.252e+04\n",
      "Df Model:                           3                                         \n",
      "Covariance Type:            nonrobust                                         \n",
      "==============================================================================\n",
      "                 coef    std err          t      P>|t|      [0.025      0.975]\n",
      "------------------------------------------------------------------------------\n",
      "const          1.0903      0.017     63.469      0.000       1.057       1.124\n",
      "x1             0.2353      0.015     15.240      0.000       0.205       0.266\n",
      "x2             1.0265      0.016     65.826      0.000       0.996       1.057\n",
      "x3             0.1047      0.015      6.960      0.000       0.075       0.134\n",
      "x4             0.1091      0.016      6.960      0.000       0.078       0.140\n",
      "==============================================================================\n",
      "Omnibus:                     5215.199   Durbin-Watson:                   1.996\n",
      "Prob(Omnibus):                  0.000   Jarque-Bera (JB):            38906.437\n",
      "Skew:                           2.424   Prob(JB):                         0.00\n",
      "Kurtosis:                      11.359   Cond. No.                     4.53e+15\n",
      "==============================================================================\n",
      "\n",
      "Warnings:\n",
      "[1] Standard Errors assume that the covariance matrix of the errors is correctly specified.\n",
      "[2] The smallest eigenvalue is 3.8e-27. This might indicate that there are\n",
      "strong multicollinearity problems or that the design matrix is singular.\n"
     ]
    }
   ],
   "source": [
    "all_X = np.column_stack([X_pca_A**2])\n",
    "x2 = sm.add_constant(all_X)\n",
    "models = sm.OLS(y,x2)\n",
    "result = models.fit()\n",
    "print(result.summary())"
   ]
  },
  {
   "cell_type": "markdown",
   "metadata": {},
   "source": [
    "*   The true causal coefficient is (0.2, 1.0). \n",
    "*   But with the deconfounder, both of the confidence intervals (for x1, x2) include the truth."
   ]
  },
  {
   "cell_type": "markdown",
   "metadata": {},
   "source": [
    "## causal estimation with the substitute confounder Z"
   ]
  },
  {
   "cell_type": "code",
   "execution_count": 18,
   "metadata": {},
   "outputs": [
    {
     "name": "stdout",
     "output_type": "stream",
     "text": [
      "                            OLS Regression Results                            \n",
      "==============================================================================\n",
      "Dep. Variable:                      y   R-squared:                       0.677\n",
      "Model:                            OLS   Adj. R-squared:                  0.677\n",
      "Method:                 Least Squares   F-statistic:                     6989.\n",
      "Date:                Thu, 20 Sep 2018   Prob (F-statistic):               0.00\n",
      "Time:                        01:55:19   Log-Likelihood:                -16241.\n",
      "No. Observations:               10000   AIC:                         3.249e+04\n",
      "Df Residuals:                    9996   BIC:                         3.252e+04\n",
      "Df Model:                           3                                         \n",
      "Covariance Type:            nonrobust                                         \n",
      "==============================================================================\n",
      "                 coef    std err          t      P>|t|      [0.025      0.975]\n",
      "------------------------------------------------------------------------------\n",
      "const          1.0904      0.017     63.468      0.000       1.057       1.124\n",
      "x1             0.2349      0.015     15.188      0.000       0.205       0.265\n",
      "x2             1.0262      0.016     65.758      0.000       0.996       1.057\n",
      "x3             0.1073      0.015      6.970      0.000       0.077       0.137\n",
      "==============================================================================\n",
      "Omnibus:                     5215.454   Durbin-Watson:                   1.996\n",
      "Prob(Omnibus):                  0.000   Jarque-Bera (JB):            38910.235\n",
      "Skew:                           2.424   Prob(JB):                         0.00\n",
      "Kurtosis:                      11.360   Cond. No.                         6.99\n",
      "==============================================================================\n",
      "\n",
      "Warnings:\n",
      "[1] Standard Errors assume that the covariance matrix of the errors is correctly specified.\n"
     ]
    }
   ],
   "source": [
    "all_X = np.column_stack([X_pca_Z**2])\n",
    "x2 = sm.add_constant(all_X)\n",
    "models = sm.OLS(y,x2)\n",
    "result = models.fit()\n",
    "print(result.summary())"
   ]
  },
  {
   "cell_type": "markdown",
   "metadata": {},
   "source": [
    "*   The true causal coefficient is (0.2, 1.0). \n",
    "*   But with the deconfounder, both of the confidence intervals (for x1, x2) include the truth."
   ]
  },
  {
   "cell_type": "markdown",
   "metadata": {},
   "source": [
    "# The oracle case: when the confounder is observed"
   ]
  },
  {
   "cell_type": "code",
   "execution_count": 19,
   "metadata": {},
   "outputs": [
    {
     "name": "stdout",
     "output_type": "stream",
     "text": [
      "                            OLS Regression Results                            \n",
      "==============================================================================\n",
      "Dep. Variable:                      y   R-squared:                       1.000\n",
      "Model:                            OLS   Adj. R-squared:                  1.000\n",
      "Method:                 Least Squares   F-statistic:                 3.081e+32\n",
      "Date:                Thu, 20 Sep 2018   Prob (F-statistic):               0.00\n",
      "Time:                        01:55:19   Log-Likelihood:             3.1159e+05\n",
      "No. Observations:               10000   AIC:                        -6.232e+05\n",
      "Df Residuals:                    9996   BIC:                        -6.231e+05\n",
      "Df Model:                           3                                         \n",
      "Covariance Type:            nonrobust                                         \n",
      "==============================================================================\n",
      "                 coef    std err          t      P>|t|      [0.025      0.975]\n",
      "------------------------------------------------------------------------------\n",
      "const          0.4000   1.04e-16   3.86e+15      0.000       0.400       0.400\n",
      "x1             0.2000    5.1e-17   3.92e+15      0.000       0.200       0.200\n",
      "x2             1.0000   4.96e-17   2.02e+16      0.000       1.000       1.000\n",
      "x3             0.9000    5.2e-17   1.73e+16      0.000       0.900       0.900\n",
      "==============================================================================\n",
      "Omnibus:                     2250.703   Durbin-Watson:                   0.181\n",
      "Prob(Omnibus):                  0.000   Jarque-Bera (JB):            27983.625\n",
      "Skew:                          -0.726   Prob(JB):                         0.00\n",
      "Kurtosis:                      11.066   Cond. No.                         3.86\n",
      "==============================================================================\n",
      "\n",
      "Warnings:\n",
      "[1] Standard Errors assume that the covariance matrix of the errors is correctly specified.\n"
     ]
    }
   ],
   "source": [
    "# oracle\n",
    "all_X = np.column_stack([X**2])\n",
    "x2 = sm.add_constant(all_X)\n",
    "models = sm.OLS(y,x2)\n",
    "result = models.fit()\n",
    "print(result.summary())"
   ]
  },
  {
   "cell_type": "markdown",
   "metadata": {},
   "source": [
    "*   The true causal coefficient is (0.2, 1.0). \n",
    "*   When the confounder is observed, both of the confidence intervals (for x1, x2) include the truth.\n",
    "*   The estimate is (expectedly) more efficient than the deconfounder, but only slightly more."
   ]
  }
 ],
 "metadata": {
  "kernelspec": {
   "display_name": "Python 3",
   "language": "python",
   "name": "python3"
  },
  "language_info": {
   "codemirror_mode": {
    "name": "ipython",
    "version": 3
   },
   "file_extension": ".py",
   "mimetype": "text/x-python",
   "name": "python",
   "nbconvert_exporter": "python",
   "pygments_lexer": "ipython3",
   "version": "3.6.4"
  }
 },
 "nbformat": 4,
 "nbformat_minor": 2
}
